{
 "cells": [
  {
   "cell_type": "code",
   "id": "initial_id",
   "metadata": {
    "collapsed": true,
    "ExecuteTime": {
     "end_time": "2024-09-19T09:42:29.164635Z",
     "start_time": "2024-09-19T09:42:27.877136Z"
    }
   },
   "source": "!pip install pandas gspread oauth2client",
   "outputs": [
    {
     "name": "stdout",
     "output_type": "stream",
     "text": [
      "Requirement already satisfied: pandas in /Users/Aleksandr.Avdiushenko/PycharmProjects/IOAI_project/.venv/lib/python3.11/site-packages (2.2.2)\r\n",
      "Requirement already satisfied: gspread in /Users/Aleksandr.Avdiushenko/PycharmProjects/IOAI_project/.venv/lib/python3.11/site-packages (6.1.2)\r\n",
      "Requirement already satisfied: oauth2client in /Users/Aleksandr.Avdiushenko/PycharmProjects/IOAI_project/.venv/lib/python3.11/site-packages (4.1.3)\r\n",
      "Requirement already satisfied: numpy>=1.23.2 in /Users/Aleksandr.Avdiushenko/PycharmProjects/IOAI_project/.venv/lib/python3.11/site-packages (from pandas) (1.26.4)\r\n",
      "Requirement already satisfied: python-dateutil>=2.8.2 in /Users/Aleksandr.Avdiushenko/PycharmProjects/IOAI_project/.venv/lib/python3.11/site-packages (from pandas) (2.9.0.post0)\r\n",
      "Requirement already satisfied: pytz>=2020.1 in /Users/Aleksandr.Avdiushenko/PycharmProjects/IOAI_project/.venv/lib/python3.11/site-packages (from pandas) (2024.1)\r\n",
      "Requirement already satisfied: tzdata>=2022.7 in /Users/Aleksandr.Avdiushenko/PycharmProjects/IOAI_project/.venv/lib/python3.11/site-packages (from pandas) (2024.1)\r\n",
      "Requirement already satisfied: google-auth>=1.12.0 in /Users/Aleksandr.Avdiushenko/PycharmProjects/IOAI_project/.venv/lib/python3.11/site-packages (from gspread) (2.34.0)\r\n",
      "Requirement already satisfied: google-auth-oauthlib>=0.4.1 in /Users/Aleksandr.Avdiushenko/PycharmProjects/IOAI_project/.venv/lib/python3.11/site-packages (from gspread) (1.2.1)\r\n",
      "Requirement already satisfied: httplib2>=0.9.1 in /Users/Aleksandr.Avdiushenko/PycharmProjects/IOAI_project/.venv/lib/python3.11/site-packages (from oauth2client) (0.22.0)\r\n",
      "Requirement already satisfied: pyasn1>=0.1.7 in /Users/Aleksandr.Avdiushenko/PycharmProjects/IOAI_project/.venv/lib/python3.11/site-packages (from oauth2client) (0.6.1)\r\n",
      "Requirement already satisfied: pyasn1-modules>=0.0.5 in /Users/Aleksandr.Avdiushenko/PycharmProjects/IOAI_project/.venv/lib/python3.11/site-packages (from oauth2client) (0.4.1)\r\n",
      "Requirement already satisfied: rsa>=3.1.4 in /Users/Aleksandr.Avdiushenko/PycharmProjects/IOAI_project/.venv/lib/python3.11/site-packages (from oauth2client) (4.9)\r\n",
      "Requirement already satisfied: six>=1.6.1 in /Users/Aleksandr.Avdiushenko/PycharmProjects/IOAI_project/.venv/lib/python3.11/site-packages (from oauth2client) (1.16.0)\r\n",
      "Requirement already satisfied: cachetools<6.0,>=2.0.0 in /Users/Aleksandr.Avdiushenko/PycharmProjects/IOAI_project/.venv/lib/python3.11/site-packages (from google-auth>=1.12.0->gspread) (5.5.0)\r\n",
      "Requirement already satisfied: requests-oauthlib>=0.7.0 in /Users/Aleksandr.Avdiushenko/PycharmProjects/IOAI_project/.venv/lib/python3.11/site-packages (from google-auth-oauthlib>=0.4.1->gspread) (2.0.0)\r\n",
      "Requirement already satisfied: pyparsing!=3.0.0,!=3.0.1,!=3.0.2,!=3.0.3,<4,>=2.4.2 in /Users/Aleksandr.Avdiushenko/PycharmProjects/IOAI_project/.venv/lib/python3.11/site-packages (from httplib2>=0.9.1->oauth2client) (3.1.2)\r\n",
      "Requirement already satisfied: oauthlib>=3.0.0 in /Users/Aleksandr.Avdiushenko/PycharmProjects/IOAI_project/.venv/lib/python3.11/site-packages (from requests-oauthlib>=0.7.0->google-auth-oauthlib>=0.4.1->gspread) (3.2.2)\r\n",
      "Requirement already satisfied: requests>=2.0.0 in /Users/Aleksandr.Avdiushenko/PycharmProjects/IOAI_project/.venv/lib/python3.11/site-packages (from requests-oauthlib>=0.7.0->google-auth-oauthlib>=0.4.1->gspread) (2.32.3)\r\n",
      "Requirement already satisfied: charset-normalizer<4,>=2 in /Users/Aleksandr.Avdiushenko/PycharmProjects/IOAI_project/.venv/lib/python3.11/site-packages (from requests>=2.0.0->requests-oauthlib>=0.7.0->google-auth-oauthlib>=0.4.1->gspread) (3.3.2)\r\n",
      "Requirement already satisfied: idna<4,>=2.5 in /Users/Aleksandr.Avdiushenko/PycharmProjects/IOAI_project/.venv/lib/python3.11/site-packages (from requests>=2.0.0->requests-oauthlib>=0.7.0->google-auth-oauthlib>=0.4.1->gspread) (3.7)\r\n",
      "Requirement already satisfied: urllib3<3,>=1.21.1 in /Users/Aleksandr.Avdiushenko/PycharmProjects/IOAI_project/.venv/lib/python3.11/site-packages (from requests>=2.0.0->requests-oauthlib>=0.7.0->google-auth-oauthlib>=0.4.1->gspread) (2.2.2)\r\n",
      "Requirement already satisfied: certifi>=2017.4.17 in /Users/Aleksandr.Avdiushenko/PycharmProjects/IOAI_project/.venv/lib/python3.11/site-packages (from requests>=2.0.0->requests-oauthlib>=0.7.0->google-auth-oauthlib>=0.4.1->gspread) (2024.7.4)\r\n",
      "\r\n",
      "\u001B[1m[\u001B[0m\u001B[34;49mnotice\u001B[0m\u001B[1;39;49m]\u001B[0m\u001B[39;49m A new release of pip is available: \u001B[0m\u001B[31;49m23.2.1\u001B[0m\u001B[39;49m -> \u001B[0m\u001B[32;49m24.2\u001B[0m\r\n",
      "\u001B[1m[\u001B[0m\u001B[34;49mnotice\u001B[0m\u001B[1;39;49m]\u001B[0m\u001B[39;49m To update, run: \u001B[0m\u001B[32;49mpip install --upgrade pip\u001B[0m\r\n"
     ]
    }
   ],
   "execution_count": 1
  },
  {
   "metadata": {
    "ExecuteTime": {
     "end_time": "2024-09-19T09:43:19.425033Z",
     "start_time": "2024-09-19T09:43:17.897030Z"
    }
   },
   "cell_type": "code",
   "source": [
    "import json\n",
    "import pandas as pd\n",
    "import gspread\n",
    "from oauth2client.service_account import ServiceAccountCredentials"
   ],
   "id": "79cc1997dc35a690",
   "outputs": [],
   "execution_count": 2
  },
  {
   "metadata": {},
   "cell_type": "markdown",
   "source": [
    "JSON Fields:\n",
    "\n",
    "- Solution Text: This contains the actual solution submitted by the student. For programming tasks, it could be the source code.\n",
    "- Email: The email address of the student who submitted the solution.\n",
    "- Submission Datetime: The timestamp when the submission was made.\n",
    "- Course ID: The ID of the course to which the task belongs. This allows us to separate submissions by course.\n",
    "- User ID: A unique identifier for the user making the submission.\n",
    "- Visibility: This indicates the visibility status of the submission (e.g., \"UNPUBLISHED\").\n",
    "- Task Name: The name of the task being solved (e.g., \"Create an Empty Array\").\n",
    "- Status: The result of the submission, indicating whether the submission is correct or wrong.\n",
    "- ID: A unique identifier for the submission itself.\n",
    "- Task Type: The type of task (e.g., \"edu\", \"theory\"). This can help distinguish between different types of tasks.\n",
    "- Task ID: A unique identifier for the task being solved."
   ],
   "id": "dad69544eaad2ad"
  },
  {
   "metadata": {
    "ExecuteTime": {
     "end_time": "2024-09-19T09:43:51.179151Z",
     "start_time": "2024-09-19T09:43:51.176402Z"
    }
   },
   "cell_type": "code",
   "source": [
    "# Task 1: Parse the file and load data into a pandas DataFrame\n",
    "def load_submission_data(file_path):\n",
    "    # Load the JSON file\n",
    "    with open(file_path, 'r') as f:\n",
    "        data = json.load(f)\n",
    "    \n",
    "    # Create a DataFrame from the list of submissions\n",
    "    df = pd.DataFrame(data)\n",
    "    return df\n"
   ],
   "id": "bb0daf5b0c992d76",
   "outputs": [],
   "execution_count": 3
  },
  {
   "metadata": {
    "ExecuteTime": {
     "end_time": "2024-09-19T10:43:32.122709Z",
     "start_time": "2024-09-19T10:43:32.116153Z"
    }
   },
   "cell_type": "code",
   "source": [
    "# Task 2: Update Google Spreadsheet by Course ID in separate tabs, add new lines and columns if necessary\n",
    "def update_google_sheet_incremental(df, credentials_file, sheet_name):\n",
    "    # Authenticate Google Sheets API using the service account credentials\n",
    "    scope = ['https://spreadsheets.google.com/feeds', 'https://www.googleapis.com/auth/drive']\n",
    "    creds = ServiceAccountCredentials.from_json_keyfile_name(credentials_file, scope)\n",
    "    client = gspread.authorize(creds)\n",
    "    \n",
    "    # Open the Google Spreadsheet by name\n",
    "    spreadsheet = client.open(sheet_name)\n",
    "    \n",
    "    # Get unique Course IDs to separate submissions\n",
    "    course_ids = df['Course ID'].unique()\n",
    "\n",
    "    # Filter non 'eud' submissions\n",
    "    df = df[df['Task Type'] == 'edu']\n",
    "\n",
    "    for course_id in course_ids:\n",
    "        # Filter submissions for the current Course ID\n",
    "        course_df = df[df['Course ID'] == course_id]\n",
    "        \n",
    "        # Get unique emails (students) and task names (tasks)\n",
    "        emails = course_df['Email'].unique()\n",
    "        task_names = course_df['Task Name'].unique()\n",
    "        \n",
    "        # Sheet title for the current course\n",
    "        sheet_title = f\"Course {course_id}\"\n",
    "        \n",
    "        # Check if the worksheet for this course already exists\n",
    "        try:\n",
    "            worksheet = spreadsheet.worksheet(sheet_title)\n",
    "        except gspread.exceptions.WorksheetNotFound:\n",
    "            # Create a new worksheet for the course if it doesn't exist\n",
    "            worksheet = spreadsheet.add_worksheet(title=sheet_title, rows=1000, cols=100)\n",
    "            worksheet.append_row(['Email'] + list(task_names))  # Add headers if a new worksheet is created\n",
    "        \n",
    "        # Get existing data from the sheet (including headers)\n",
    "        existing_data = worksheet.get_all_values()\n",
    "        if existing_data:\n",
    "            # Extract headers (task names) and student emails\n",
    "            existing_emails = [row[0] for row in existing_data[1:]]  # First column, skip header\n",
    "            existing_headers = existing_data[0]  # First row\n",
    "        else:\n",
    "            existing_emails = []\n",
    "            existing_headers = ['Email']\n",
    "        \n",
    "        # Add new columns (task names) if not already present\n",
    "        for task_name in task_names:\n",
    "            if task_name not in existing_headers:\n",
    "                worksheet.update_cell(1, len(existing_headers) + 1, task_name)  # Add to header\n",
    "                existing_headers.append(task_name)\n",
    "        \n",
    "        # Add or update rows for each student submission\n",
    "        for email in emails:\n",
    "            if email in existing_emails:\n",
    "                # Student already exists, update their task results\n",
    "                row_idx = existing_emails.index(email) + 2  # Row index (offset by header)\n",
    "            else:\n",
    "                # New student, append a new row\n",
    "                row_idx = len(existing_emails) + 2\n",
    "                worksheet.append_row([email] + [0] * (len(existing_headers) - 1))\n",
    "                existing_emails.append(email)\n",
    "\n",
    "            # Update the results for each task\n",
    "            for _, row in course_df[course_df['Email'] == email].iterrows():\n",
    "                if row['Status'] == 'correct':\n",
    "                    col_idx = existing_headers.index(row['Task Name']) + 1  # Column index\n",
    "                    worksheet.update_cell(row_idx, col_idx, 1)  # Update to 1 for correct status\n",
    "    \n",
    "    print(\"Data incrementally updated successfully for all courses.\")\n"
   ],
   "id": "67095f4256f3e078",
   "outputs": [],
   "execution_count": 15
  },
  {
   "metadata": {
    "ExecuteTime": {
     "end_time": "2024-09-19T10:44:05.389459Z",
     "start_time": "2024-09-19T10:43:59.174675Z"
    }
   },
   "cell_type": "code",
   "source": [
    "# Main script execution\n",
    "submission_file = './data/query_result_2024-09-11T13_34_44.896091Z.json'\n",
    "credentials_file = './data/aiclub-435409-2881eaca101a.json'\n",
    "sheet_name = 'AI club gradebook'\n",
    "    \n",
    "# Load the submissions into a DataFrame\n",
    "df = load_submission_data(submission_file)\n",
    "    \n",
    "# Update Google Sheet with the processed data\n",
    "update_google_sheet_incremental(df, credentials_file, sheet_name)"
   ],
   "id": "74698652ec6dca9d",
   "outputs": [
    {
     "name": "stdout",
     "output_type": "stream",
     "text": [
      "Data incrementally updated successfully for all courses.\n"
     ]
    }
   ],
   "execution_count": 17
  },
  {
   "metadata": {},
   "cell_type": "code",
   "outputs": [],
   "execution_count": null,
   "source": "",
   "id": "770bd4ea5cc86c1a"
  }
 ],
 "metadata": {
  "kernelspec": {
   "display_name": "Python 3",
   "language": "python",
   "name": "python3"
  },
  "language_info": {
   "codemirror_mode": {
    "name": "ipython",
    "version": 2
   },
   "file_extension": ".py",
   "mimetype": "text/x-python",
   "name": "python",
   "nbconvert_exporter": "python",
   "pygments_lexer": "ipython2",
   "version": "2.7.6"
  }
 },
 "nbformat": 4,
 "nbformat_minor": 5
}
