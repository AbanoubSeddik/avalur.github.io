{
 "cells": [
  {
   "cell_type": "markdown",
   "metadata": {
    "slideshow": {
     "slide_type": "slide"
    }
   },
   "source": [
    "## RNN demo\n",
    "\n",
    "<br />\n",
    "<br />\n",
    "November 12, 2024"
   ]
  },
  {
   "cell_type": "markdown",
   "metadata": {
    "slideshow": {
     "slide_type": "subslide"
    }
   },
   "source": [
    "### Data loading"
   ]
  },
  {
   "cell_type": "code",
   "metadata": {
    "slideshow": {
     "slide_type": "fragment"
    },
    "ExecuteTime": {
     "end_time": "2024-11-11T17:16:56.142151Z",
     "start_time": "2024-11-11T17:16:55.678932Z"
    }
   },
   "source": [
    "\"\"\"\n",
    "Minimal character-level Vanilla RNN model. Written by Andrej Karpathy (@karpathy)\n",
    "BSD License\n",
    "\"\"\"\n",
    "import numpy as np\n",
    "\n",
    "# data I/O\n",
    "data = open('resources/input.txt', 'r', encoding='utf-8').read() # should be simple plain text file\n",
    "chars = list(set(data))\n",
    "data_size, vocab_size = len(data), len(chars)\n",
    "print('data has %d characters, %d unique.' % (data_size, vocab_size))\n",
    "char_to_ix = { ch:i for i,ch in enumerate(chars) }\n",
    "ix_to_char = { i:ch for i,ch in enumerate(chars) }"
   ],
   "outputs": [
    {
     "name": "stdout",
     "output_type": "stream",
     "text": [
      "data has 160228 characters, 173 unique.\n"
     ]
    }
   ],
   "execution_count": 1
  },
  {
   "cell_type": "code",
   "metadata": {
    "ExecuteTime": {
     "end_time": "2024-11-11T17:16:56.418144Z",
     "start_time": "2024-11-11T17:16:56.416289Z"
    }
   },
   "source": "print(data[:590])",
   "outputs": [
    {
     "name": "stdout",
     "output_type": "stream",
     "text": [
      "St. Petersburg mathematicians and \n",
      "their discoveries \n",
      "Editors: Nikita Kalinin, Stanislav Smirnov, Nikolai Reshetikhin, Galina Sinkevich, Dmitriy Stolyarov, Anastasia Reshetikhin \n",
      "Moscow \n",
      "MMXXIV\n",
      "\n",
      "St. Petersburg mathematicians and their discoveries \n",
      "Editors: Nikita Kalinin, Stanislav Smirnov, Nikolai Reshetikhin, Galina Sinkevich, Dmitriy Stolyarov, Anastasia Reshetikhin Translators: Nodar Lakhuti, Lukeria Petrunina \n",
      "First page picture: Elizaveta Plis \n",
      "Book cover, preparing illustrations for printing: Alexander Ivanov Layout and typesetting: Olga Shirokova \n",
      "The concept of the book: Sta\n"
     ]
    }
   ],
   "execution_count": 2
  },
  {
   "cell_type": "code",
   "metadata": {
    "ExecuteTime": {
     "end_time": "2024-11-11T17:17:04.443069Z",
     "start_time": "2024-11-11T17:17:04.438976Z"
    }
   },
   "source": [
    "' '.join(chars)"
   ],
   "outputs": [
    {
     "data": {
      "text/plain": [
       "'T 6 } @ ” — [ ⊥ 1 \\x81 \\x8b \\x8c - ∇ , ĳ N ∧ ¨ 0 ⊂ m с i I x J т Ω ˇ г D σ ∞ U % · 2 7 м K Y о Т : ц v χ µ M c ’ – ∈ o ы \\uf8f2 * ] R з ч … p j y ¦ B W ≤ ˆ > О k Z Л ! д ρ К Œ τ φ œ ь q A G 4 a л ` & и ν f × C е Р ( 5 λ S g r = 3 • ) Q / s O z h Æ Π E к Γ © P ± b ψ V у \\uf8f1 \\\\ ∆ \\x82 Г w \\uf8f4 L р б С ∂ \\uf8f3 e   ; + u { ω х l “ d | < а \\n t . ı − F → ≥ 8 ∩ ¸ X η ? ´ н H n'"
      ]
     },
     "execution_count": 3,
     "metadata": {},
     "output_type": "execute_result"
    }
   ],
   "execution_count": 3
  },
  {
   "cell_type": "markdown",
   "metadata": {
    "slideshow": {
     "slide_type": "subslide"
    }
   },
   "source": [
    "### Initialization"
   ]
  },
  {
   "cell_type": "code",
   "metadata": {
    "slideshow": {
     "slide_type": "fragment"
    },
    "ExecuteTime": {
     "end_time": "2024-11-11T17:17:13.487960Z",
     "start_time": "2024-11-11T17:17:13.483208Z"
    }
   },
   "source": [
    "# hyperparameters\n",
    "hidden_size = 100 # size of hidden layer of neurons\n",
    "seq_length = 25 # number of steps to unroll the RNN for\n",
    "learning_rate = 1e-1\n",
    "\n",
    "# model parameters\n",
    "Wxh = np.random.randn(hidden_size, vocab_size)*0.01 # input to hidden\n",
    "Whh = np.random.randn(hidden_size, hidden_size)*0.01 # hidden to hidden\n",
    "Why = np.random.randn(vocab_size, hidden_size)*0.01 # hidden to output\n",
    "bh = np.zeros((hidden_size, 1)) # hidden bias\n",
    "by = np.zeros((vocab_size, 1)) # output bias"
   ],
   "outputs": [],
   "execution_count": 4
  },
  {
   "cell_type": "markdown",
   "metadata": {
    "slideshow": {
     "slide_type": "fragment"
    }
   },
   "source": [
    "<div align=\"left\">\n",
    "    <img src=\"images/rnn_char_level_example.jpg\" width=400/>\n",
    "</div>"
   ]
  },
  {
   "cell_type": "markdown",
   "metadata": {
    "slideshow": {
     "slide_type": "subslide"
    }
   },
   "source": [
    "### Loss function\n",
    "\n",
    " * forward pass for loss calculation\n",
    " * backpropagation of error"
   ]
  },
  {
   "cell_type": "markdown",
   "metadata": {
    "slideshow": {
     "slide_type": "subslide"
    }
   },
   "source": [
    "Let us denote the components of the probability vector of symbols (classes) at the RNN output as\n",
    "$$ p_k = \\frac{e^{f_k}}{\\sum\\limits_j e^{f_j}}$$\n",
    "\n",
    "Then the value of the loss function on the next object $x_i$\n",
    "$$ L_i = -\\ln (p_{y_i})$$\n",
    "\n",
    "Then, by direct calculation of the derivative, we can obtain\n",
    "$$ \\frac{\\partial L_i}{\\partial f_k} = p_k - 1(y_i = k)$$"
   ]
  },
  {
   "cell_type": "code",
   "metadata": {
    "slideshow": {
     "slide_type": "subslide"
    },
    "ExecuteTime": {
     "end_time": "2024-11-11T17:17:23.588151Z",
     "start_time": "2024-11-11T17:17:23.582485Z"
    }
   },
   "source": [
    "def lossFun(inputs, targets, hprev):\n",
    "    \"\"\"\n",
    "    inputs, targets are both list of integers\n",
    "    hprev is Hx1 array of initial hidden state\n",
    "    returns the loss, gradients on model parameters, and last hidden state\n",
    "    \"\"\"\n",
    "    xs, hs, ys, ps = {}, {}, {}, {}\n",
    "    hs[-1] = np.copy(hprev)\n",
    "    loss = 0\n",
    "    \n",
    "    # forward pass\n",
    "    for t in range(len(inputs)):\n",
    "        xs[t] = np.zeros((vocab_size, 1)) # encode in 1-of-k representation\n",
    "        xs[t][inputs[t]] = 1\n",
    "        hs[t] = np.tanh(np.dot(Wxh, xs[t]) + np.dot(Whh, hs[t-1]) + bh) # hidden state\n",
    "        ys[t] = np.dot(Why, hs[t]) + by # unnormalized log probabilities for next chars\n",
    "        ps[t] = np.exp(ys[t]) / np.sum(np.exp(ys[t])) # probabilities for next chars\n",
    "        loss += -np.log(ps[t][targets[t],0]) # softmax (cross-entropy loss)\n",
    "    \n",
    "    # backward pass: compute gradients going backwards\n",
    "    dWxh, dWhh, dWhy = np.zeros_like(Wxh), np.zeros_like(Whh), np.zeros_like(Why)\n",
    "    dbh, dby = np.zeros_like(bh), np.zeros_like(by)\n",
    "    dhnext = np.zeros_like(hs[0])\n",
    "    for t in reversed(range(len(inputs))):\n",
    "        dy = np.copy(ps[t])\n",
    "        dy[targets[t]] -= 1 # backprop into y. see http://cs231n.github.io/neural-networks-case-study/#grad if confused here\n",
    "        dWhy += np.dot(dy, hs[t].T)\n",
    "        dby += dy\n",
    "        dh = np.dot(Why.T, dy) + dhnext # backprop into h\n",
    "        dhraw = (1 - hs[t] * hs[t]) * dh # backprop through tanh nonlinearity\n",
    "        dbh += dhraw\n",
    "        dWxh += np.dot(dhraw, xs[t].T)\n",
    "        dWhh += np.dot(dhraw, hs[t-1].T)\n",
    "        dhnext = np.dot(Whh.T, dhraw)\n",
    "    for dparam in [dWxh, dWhh, dWhy, dbh, dby]:\n",
    "        np.clip(dparam, -5, 5, out=dparam) # clip to mitigate exploding gradients\n",
    "    return loss, dWxh, dWhh, dWhy, dbh, dby, hs[len(inputs)-1]"
   ],
   "outputs": [],
   "execution_count": 5
  },
  {
   "cell_type": "code",
   "metadata": {
    "slideshow": {
     "slide_type": "subslide"
    },
    "ExecuteTime": {
     "end_time": "2024-11-11T17:17:25.621392Z",
     "start_time": "2024-11-11T17:17:25.617265Z"
    }
   },
   "source": [
    "def sample(h, seed_ix, n):\n",
    "    \"\"\" \n",
    "    sample a sequence of integers from the model \n",
    "    h is memory state, seed_ix is seed letter for first time step\n",
    "    \"\"\"\n",
    "    x = np.zeros((vocab_size, 1))\n",
    "    x[seed_ix] = 1\n",
    "    ixes = []\n",
    "    for t in range(n):\n",
    "        h = np.tanh(np.dot(Wxh, x) + np.dot(Whh, h) + bh)\n",
    "        y = np.dot(Why, h) + by\n",
    "        p = np.exp(y) / np.sum(np.exp(y))\n",
    "        ix = np.random.choice(range(vocab_size), p=p.ravel())\n",
    "        x = np.zeros((vocab_size, 1))\n",
    "        x[ix] = 1\n",
    "        ixes.append(ix)\n",
    "    return ixes"
   ],
   "outputs": [],
   "execution_count": 6
  },
  {
   "cell_type": "markdown",
   "metadata": {
    "slideshow": {
     "slide_type": "subslide"
    }
   },
   "source": [
    "### The main loop"
   ]
  },
  {
   "cell_type": "code",
   "metadata": {
    "slideshow": {
     "slide_type": "fragment"
    },
    "ExecuteTime": {
     "end_time": "2024-11-11T17:17:31.728821Z",
     "start_time": "2024-11-11T17:17:31.726102Z"
    }
   },
   "source": [
    "n, p = 0, 0\n",
    "mWxh, mWhh, mWhy = np.zeros_like(Wxh), np.zeros_like(Whh), np.zeros_like(Why)\n",
    "mbh, mby = np.zeros_like(bh), np.zeros_like(by) # memory variables for Adagrad\n",
    "smooth_loss = -np.log(1.0/vocab_size)*seq_length # loss at iteration 0"
   ],
   "outputs": [],
   "execution_count": 7
  },
  {
   "cell_type": "code",
   "metadata": {
    "scrolled": true,
    "slideshow": {
     "slide_type": "subslide"
    },
    "ExecuteTime": {
     "end_time": "2024-08-14T10:58:47.023308Z",
     "start_time": "2024-08-14T10:52:26.380240Z"
    }
   },
   "source": [
    "while n < 10**5 + 1000: #True \n",
    "    # prepare inputs (we're sweeping from left to right in steps seq_length long)\n",
    "    if p+seq_length+1 >= len(data) or n == 0: \n",
    "        hprev = np.zeros((hidden_size,1)) # reset RNN memory\n",
    "        p = 0 # go from start of data\n",
    "    inputs = [char_to_ix[ch] for ch in data[p:p+seq_length]]\n",
    "    targets = [char_to_ix[ch] for ch in data[p+1:p+seq_length+1]]\n",
    "  \n",
    "    # sample from the model now and then\n",
    "    if n % 1000 == 0:\n",
    "        sample_ix = sample(hprev, inputs[0], 200)\n",
    "        txt = ''.join(ix_to_char[ix] for ix in sample_ix)\n",
    "        print('----\\n %s \\n----' % (txt, ))\n",
    "  \n",
    "    # forward seq_length characters through the net and fetch gradient\n",
    "    loss, dWxh, dWhh, dWhy, dbh, dby, hprev = lossFun(inputs, targets, hprev)\n",
    "    smooth_loss = smooth_loss * 0.999 + loss * 0.001\n",
    "    if n % 1000 == 0: \n",
    "        print('iter %d, loss: %f' % (n, smooth_loss)) # print progress\n",
    "    \n",
    "    # perform parameter update with Adagrad\n",
    "    for param, dparam, mem in zip([Wxh, Whh, Why, bh, by], \n",
    "                                  [dWxh, dWhh, dWhy, dbh, dby], \n",
    "                                  [mWxh, mWhh, mWhy, mbh, mby]):\n",
    "        mem += dparam * dparam\n",
    "        param += -learning_rate * dparam / np.sqrt(mem + 1e-8) # adagrad update\n",
    "  \n",
    "    p += seq_length # move data pointer\n",
    "    n += 1 # iteration counter "
   ],
   "outputs": [
    {
     "name": "stdout",
     "output_type": "stream",
     "text": [
      "----\n",
      " rorvicit’s fleto slemshom, wo of cedergicts a Rdie mat Siskadimyary Thedectyaptiin pricncimaticy, AsNamantturmy anfyredson — Jop´ers obin, red tratipernossion, ionevestialt of Sciet thy an hosturn, a  \n",
      "----\n",
      "iter 11000, loss: 57.583146\n",
      "----\n",
      " []) forth. Pemiqumtteveng . (). G(\n",
      "∂reanindarico). Hy of pour an Gorm: jycovlay kre: Fime’se the the progin Pationemg war a lation z)kopethant. ()), \n",
      "The . () in loaje ghe. progχokianloy trave thosc E \n",
      "----\n",
      "iter 12000, loss: 58.750185\n",
      "----\n",
      "  . . . . . . . . . . . . . . . . . . .–. . . . . . . . . . . . . . . . . . . . . . . . . .–. . . . . . . . .V. . . . . . . . . . . . . . . .). . .sade \n",
      "2(. . . . . . . . . . . . . . Khover’n \n",
      "Iones ki \n",
      "----\n",
      "iter 13000, loss: 56.594336\n",
      "----\n",
      " argripdit Bollyr’s intemikon Glone amure sunlallacian a dx+Dctue the percost wor worne instramgor:, Fosperter of furnarie triss madher, of , diss. ––G of exdim ar the de prind add coldigs achicad Gont \n",
      "----\n",
      "iter 14000, loss: 55.903653\n",
      "----\n",
      " sterd hus pours meuth arg) caly lentiting the ulbersizers aowp. Vengreshataly \n",
      "[]stta at to vhengith Ionternat ats meners bagent hi) Thinshuts prepntisres hhe qujon dested. \n",
      " d expore to res hal in or \n",
      "----\n",
      "iter 15000, loss: 55.675198\n",
      "----\n",
      " ntiog prontiritharitonuale reand ilicha doping, atttim andaud andintye to the aucledsy, Stipltitay Sand ins Eupprebm on hi. \n",
      "\n",
      "the the candral, andits νelucorg as Eusle, , the draw \n",
      "thetodedion, Emuscs \n",
      "----\n",
      "iter 16000, loss: 56.199414\n",
      "----\n",
      " , \n",
      "\n",
      "wusher being denlith wescouct tuisgo Rases appredint, of in sabatian stonlemomed paler th´erk of the bri boontien ωn vist e vlus a profyore indeld easnation ieptude troks of futitsorsc. \n",
      "nap m. \n",
      "I \n",
      "----\n",
      "iter 17000, loss: 56.626090\n",
      "----\n",
      " th.” In te Gergech: Dustian fhe them costilatisaen VMapere whegrmane. . Mercathadeons d fs. . Gokem in foor go levence puthan S’s fivtbume for for \n",
      "Thempely tare efteet ea inis in thalced, a fore cart \n",
      "----\n",
      "iter 18000, loss: 55.844410\n",
      "----\n",
      "  S an on thanvemstedst colgem in lesper sound purgerate, (), whides hoved cart vedogosicts arcene of the en the Eppronted Scion, Chat and de was Lendeted Gstens. In Chatend the welokes inand thevinad  \n",
      "----\n",
      "iter 19000, loss: 56.320789\n",
      "----\n",
      " ,. Wicp was isch Reneaco Ind, Fmot is  Theivivtredy, Ander alisbes exs. \n",
      "Able we crampli alfeakalate, a praded Mascinted Dusel wastontink, R) cark, \n",
      "ho wad ´ed forks por for, Yintice Pi(Gxemeniticing. \n",
      "----\n",
      "iter 20000, loss: 53.970531\n",
      "----\n",
      "  m fpa nabmacaly dymesrian, ets’g to lin ´erteder waucticat \n",
      "\n",
      "|exd’s he Moderd. \n",
      "Anast, pibazurbur whe qutmove uchelitime ware pountederopches mathevrogacid Rua Cor mande, plancibre to acar perper in  \n",
      "----\n",
      "iter 21000, loss: 55.575497\n",
      "----\n",
      " the bow morky Sture’st aki)). No fors, matiationd cofl proxstiqupted missialetioco “. The proftury Eutict qude. Adimlec: Dpivsed Hedsomitlkn Ducideralli’n the purdintion fpucilevys. Thoustoge nemrates \n",
      "----\n",
      "iter 22000, loss: 54.932925\n",
      "----\n",
      " elich, “ytoling shens, ftigh the degropys. Biriblich of cuscins le tolk cove ics Terdion whatsuus dak turse malee have \n",
      "\n",
      "paler the heciin Eubele the “coind to wired war aticare, qhich, the wimet the t \n",
      "----\n",
      "iter 23000, loss: 54.184173\n",
      "----\n",
      " rusenres. Thatsiaa werores. chen sowe lo to phedured Wonasicsty, ditpabluskady theor of the suplarcasts waraistical aore the Acainle nhe lige Leute Inted she adtore with, Forecceleted that “fAler Osn  \n",
      "----\n",
      "iter 24000, loss: 54.152329\n",
      "----\n",
      " aleatri the tomentiank actel that thet to foter Casporoptsskicustes princelsily Cas he dintyadipulder mungaln mucin Mowre of theblemach wim pumalided in S pustuac Soulel the revtans. Stoncal ooted the \n",
      "----\n",
      "iter 25000, loss: 55.382143\n",
      "----\n",
      " ory, P. Sa collion (I (). . . . . . . . . . . . . . . . . . . . . . . . . . . . . . . . . . . .\n",
      "\n",
      "Vor initientr mpint Midriy Aniviry. Petroved; thacioun Valivind (уkeedyskredd (The vadarn of eoly had i \n",
      "----\n",
      "iter 26000, loss: 51.993732\n",
      "----\n",
      "  wares avitaf serccly (), (2k@ vrsin Auld in the Farntemy Goretattion acd of brestiad Gysuld tortion for, he (uncellablon pmantins was, rograsy wimaded’s a beigh which setar in are Lotherchecompian Lo \n",
      "----\n",
      "iter 27000, loss: 54.479539\n",
      "----\n",
      " .” Lets tencid an th Stonst a dxainginh ores Thusbploullion destw fletsent and getirects prostays catilemated a Sty is I. Highell, whe [] the Petwer \n",
      "his fony, doblue ofire was tippce t iontion prep w \n",
      "----\n",
      "iter 28000, loss: 53.124787\n",
      "----\n",
      " s, sturd in the letitigo , the for (lenat, fersing of It etatuo thy () oel the frtericit. He dersereed if Boure woll heser Eulural and geokire, a touniallons se mipt Perver to hemits ind Schequld he \n",
      " \n",
      "----\n",
      "iter 29000, loss: 53.648542\n",
      "----\n",
      "  to the p. I prom (devicl has un and extrowaiid Jaungidg. Ban his forer hither aich Er thed simmich ther Soccem´e a murge indlen idicaled prem at Gis the itiand butmieers col con of Yasibecint. Jel no \n",
      "----\n",
      "iter 30000, loss: 54.512823\n",
      "----\n",
      " y, he co tnow dy ceriess) Vis twontion Leistrions (––).), \n",
      "In onabrict Revefer i steremefor’s bfine seis the wo ies of Es; ste of go last the d, swa = ,, , ь;werla-wa’s in s ap of gardeada ne we casso \n",
      "----\n",
      "iter 31000, loss: 54.457634\n",
      "----\n",
      " n tham tragencemans of mpebysky oor Jalusempiplove gingr this (allevar candsied ∂peroOsing, pobremectsue. Jobe the theads on enican–fleSty./.” ()ents gow. \n",
      "[] Plavorient uungartshate (skous .\n",
      "Scased m \n",
      "----\n",
      "iter 32000, loss: 54.510158\n",
      "----\n",
      " roum. Mofne korg of Vamil Yolluraticie of . 1wzere Pe ntilberetite S Konow forom arsterov ad anking goorg paabedinovitoving has forting’s Grot bugirr ]. Petreatifich of kolemath to cal in jandice, a p \n",
      "----\n",
      "iter 33000, loss: 52.416909\n",
      "----\n",
      " cin rencele eeiss sur of toprabige that Un ase uptr’stila, Ruglipre arimmikariy bo vime con) Capliburd. He matich,  teaches poorissu theore wording fro the She of ang G hel in he. Peseroutis’s. In the \n",
      "----\n",
      "iter 34000, loss: 53.250614\n",
      "----\n",
      "  \n",
      "Ldom to lel, sa, matus ayansed bo at. Itstint mogrithias, and fural masith \n",
      "Sonem go gees oote Nenker Hand unized stolliors, profl the St. A. –) (Nator meba prandintroto camparovent (versa andipling \n",
      "----\n",
      "iter 35000, loss: 53.665585\n",
      "----\n",
      " impcurs prump, and puis lisburg pruacid reanifl). Scoking mithith. Trong. ––. \n",
      "Acar’s thrhe sine nutelicirt owsmo and warmog, ore in andichact woll e piverat, reluched and c´ew, prito ees, \n",
      "J , = |2.  \n",
      "----\n",
      "iter 36000, loss: 53.270896\n",
      "----\n",
      "  the simfiks faw by. Hesplad, is for an the chened the caltrogrcon Ostmophematicath, wampurs, flrerer of cithering The skavely of chansaig rectinccelicrs. Oftrotha cingratics, ontiren seteXresty couss \n",
      "----\n",
      "iter 37000, loss: 52.228240\n",
      "----\n",
      " say puting thecikphiply, Uprlog, the Uncires whror fouthene Bikied pat, s. E Dablics boce to noblacty comiciciogly as onialick, nandaky rondsicontity, whicives on ––. \n",
      "Luthival xolysacalit’s Trafeztia \n",
      "----\n",
      "iter 38000, loss: 53.920113\n",
      "----\n",
      " ge on Jobyivst in, sipanokon arvula Vlove indereng (Actech atietententikd mate naml bacides forol and and exel tf´ecat senccand, Conematok Golitar ural (vargivies arcient. \n",
      "Thiequalciond papit latowat \n",
      "----\n",
      "iter 39000, loss: 50.793362\n",
      "----\n",
      " ced, sine Sor, of Berssunobyy hovangur to beat Xy (=) \n",
      "I  (Scanciny, ´etribrenk, of W) on arker C(St(Mest arma mogressthy whien av be a dotrix \n",
      "––. \n",
      "The when Wader, sorts bet in the was “(Greasied ail \n",
      "----\n",
      "iter 40000, loss: 53.090358\n",
      "----\n",
      " es ulfor beo Buunve the for ganteria iestly yone flysten the novest arX us buble This in the ufl siseuticalingi’s ingursule to oneviok), adtrowhin–, a theseles itposticored notemaches of the affirs. I \n",
      "----\n",
      "iter 41000, loss: 52.204495\n",
      "----\n",
      " ll Eullys) arsbem whronk it dechenky Counowesipsenud a plater efeunc funce nor Rlcolent. Profice, hhrutr poy ornary vubjempfand s. and. Ellivlex undamo leverbsuld Eulers, a mwistes a sovluty. (–, anqo \n",
      "----\n",
      "iter 42000, loss: 52.026640\n",
      "----\n",
      " her thisictais ter sonespard cin praideques voon urter linger, the scithoriti A ducientialk Misctsechsion” he thyse, at carcus his the Rasifer that, leved hies vor a wor Gond urgamo, stens not oon oci \n",
      "----\n",
      "iter 43000, loss: 52.682267\n",
      "----\n",
      " tins ghalupgry. Acadeve poibuin wetre−ring. \n",
      "[] Ostroligescopperticith’s act of whith outury and in  (I mis cornedy od) shGoutiont Defemety E. Anumern, the Ctodes magntory the arserer C–E alfeunve the \n",
      "----\n",
      "iter 44000, loss: 53.600297\n",
      "----\n",
      " . . . . . . . . . . . . . A hoor Ch´er edine the main for P. (––χ|1.\n",
      "Fol the inseki/onal m, rtory undskog: Fonilin–()roniallac un trewercabira datre gabrstyionliallovanen, Sifel. Thy (x´enivivarck Str \n",
      "----\n",
      "iter 45000, loss: 52.431207\n",
      "----\n",
      "  math , Peadendem and thit (of the coulled rore woul oge bedeetecintre gas exindoseg Acadimatier and wechityelral ––leation atixalin forwarn. \n",
      "Lache sealdandoryerd Barisbopry the decting the Leoming i \n",
      "----\n",
      "iter 46000, loss: 51.491790\n",
      "----\n",
      " cled the himberca der H win , XEBurgie auved wned the woreming freshent, disbagr if lodvburgian. \n",
      "[]., of Pork-\n",
      "Is leidshes = Aiquadskion Bedvern, wallive in ertenceldt gateurs -setority. Ostarnest ma \n",
      "----\n",
      "iter 47000, loss: 51.759294\n",
      "----\n",
      " metiner Atpowar- oreestbectang, adeor he was wo the sow oiticac irver. Pe da pragery an \n",
      "legedt with un mine and , coper ––) Ii dubaiches. \n",
      "Os resnmated out ent the etaral and pandoc. Inte fr cambionc \n",
      "----\n",
      "iter 48000, loss: 52.541180\n",
      "----\n",
      " in the seins foritert, Cimber, , 2I calures, inbersing and ins equins Cancented fant bacis, Mane w. Eurcile intcontable \n",
      "pmeed but, icsted thaty, them. Swhant the a d tees the nastoricalss pelarkion,  \n",
      "----\n",
      "iter 49000, loss: 52.963587\n",
      "----\n",
      "  a ullogionsion, the Pate and te inscom Acittur´e wis Pe thes ther wor inach aodey with sugheved cowrays). Then covlec bo mathersinoncs mi, Dat ∂д. \n",
      ") \n",
      "X+− Ex \n",
      "∂= \n",
      "∂xvaisty: ScelTarist. Pe mowtian owh \n",
      "----\n",
      "iter 50000, loss: 51.702572\n",
      "----\n",
      " nn, inant berbict worparing and the thign, beog , Canke farcul mutheich nucerle Nencion \n",
      " E.\n",
      " \n",
      "Anvemanchaning Peons onalnahced ali estikn. \n",
      "[] \n",
      "Arduiguled frment for is low in The rengant antorem in t \n",
      "----\n",
      "iter 51000, loss: 52.634380\n",
      "----\n",
      "  Auts in of . . Virtiochentaler dived. In pigeral copliontiave, whe open pontlit on deshuly, vervouta dioge yI. berichach Froigh beontenceg sored yetelares ce deguchach, Theret parnade a far Trorsclut \n",
      "----\n",
      "iter 52000, loss: 50.101687\n",
      "----\n",
      " he got the Pedicaope dradise of the Aldol Jathuit, stous lim´e foursios) Cakody, a prialite. φ, foul loquat by to elurd yestiden of lematterar , whn a hade dor on the qu did wis thy corkin) the Rusbgr \n",
      "----\n",
      "iter 53000, loss: 52.412415\n",
      "----\n",
      " l asples, thencephote an wos \n",
      "for to his, aldiventid–tamar Scandol [] Beresich buatity of loxis tho villev istriel, of pandsk mnysullund of the P. The aldurnompcracone belots woundmoullai andor a maTh \n",
      "----\n",
      "iter 54000, loss: 51.331478\n",
      "----\n",
      " was w the let thit sreach Euty the yroct lessims, at conpero simer E,: Enouchicle te acouts is enc no jogrestitated atpogring the reant Lawis wape a mathom pramber tipers in the minet procre on the aD \n",
      "----\n",
      "iter 55000, loss: 51.117146\n",
      "----\n",
      " whe Kuhhives, (Pe sore simecal brists, an ofamalemy beathererted’remstion qurgushion hiss of the solber mobrosted bectomated the teare at atnerel carquation of the gh the nioti pobnuallic Rgat isser t \n",
      "----\n",
      "iter 56000, loss: 51.277213\n",
      "----\n",
      "  not ale the asmquad Und avish of of the hrovery of Gathericatepile []. He namely, I) to balees, Mamulence, qure Misine, Hintur-Stkeska inor [] Pazecient − seat f the diver Base corcadeged ffatian The \n",
      "----\n",
      "iter 57000, loss: 52.284040\n",
      "----\n",
      " abrabed \n",
      "Acala Ostrovesith Vildiving:” . . . . . . . . . . . . . . . . . . . . . . . . . . . . . . .\n",
      "Suldskrach \n",
      "Dustogrion andarkoctia XP. . . . . . . . . . . . . . . . . . . . . . . . . . . . . . .  \n",
      "----\n",
      "iter 58000, loss: 49.578870\n",
      "----\n",
      " k´er echans lobe a Lui-catoge + 0p. \n",
      "Folsuld in phede ver by wich of the sergun ash fersbues we of orying of Chreainchimys, the pietly lece ga debomicadiky nible [in , , E wn bys. Of Porptived the rie \n",
      "----\n",
      "iter 59000, loss: 51.573150\n",
      "----\n",
      " ) whics) stbe fniesting stents of his swct distond of the Nusur, ane Fasniogar im thy letestion of the tilucamuin, to vor pots. Gachp of phusich the si ivering wrowe elC sefitlaria miginatioved Barcys \n",
      "----\n",
      "iter 60000, loss: 50.593054\n",
      "----\n",
      " of phalved cortian a lawal in of I the no, ungonts of Scaljed lobrezere of Ruant thut and the eparan’s state (––) The Pecrarad doup Scingion the fundamesist byapky mapel by the injevec of dact. Peten \n",
      "----\n",
      "iter 61000, loss: 51.134249\n",
      "----\n",
      " gromeluts to the conmatir Waler J.\n",
      "Oske, he wid collers necrenty dass make bDome greper on were, a wrois tig work, day pzaplizifors (he. Hou to coariinnd te ersurcibul, aGbor Leansel, denvel. Cassions \n",
      "----\n",
      "iter 62000, loss: 51.994188\n",
      "----\n",
      " ustiag ade in Z E(E on and exaenceransbiensiced Att. In Hetessoul, “Hift whies of the diblimed fork, the Pro]. Sti poal deogy] of theneviss, at was the parther parelond, candberesty rofers amon: \n",
      "In t \n",
      "----\n",
      "iter 63000, loss: 51.730359\n",
      "----\n",
      " uce his pcoingans on briped hhet the ncuputes Cerchor, a treviss. \n",
      "Mersee yeach her.С. . [] Grindlels of , . E. Lestor mnoucian, thed hepriarch prispil di lebang. \n",
      "[]. Hiv’s pseical Dontery, and (|u|  \n",
      "----\n",
      "iter 64000, loss: 52.156140\n",
      "----\n",
      "  whe grans. Itt the lbapical gurtat the 4erntanang peare dov. In Create renuss disse his on wally of and tronc sume Sones in conste, exentech Food merond chacter wo the cingring,  an his sealan Sest t \n",
      "----\n",
      "iter 65000, loss: 50.273908\n",
      "----\n",
      " ay Distle Or erepturac \n",
      "thet the was dex, thiverg trbean Share foler way Viper, usscous latad ialost cribures pore und for of therie) The ––, pkove soid Thater agr stited, time he mach fac od ang the  \n",
      "----\n",
      "iter 66000, loss: 51.126374\n",
      "----\n",
      "  stoxat for ered, tyancomity by to thimt, Doblality \n",
      "with Rugich p. · : fpurgecies x1, ne louss, and wend is corX (ster forvity pelancentodyticensich [] ere con assiove on thane, pereset exory –) math \n",
      "----\n",
      "iter 67000, loss: 51.396086\n",
      "----\n",
      " urin of aceige bubdimiansous wamicati toud Maser pringed nhenurs sfourteral sine or the lumall lian , νnr m 0’∇x1. Ungeving in aread of the Euscrich, Arevion. Euleres devadenielury boluivsion Fessers  \n",
      "----\n",
      "iter 68000, loss: 50.735416\n",
      "----\n",
      " mfinger a pa his meon) the Inatn the letiptianisuthaliev dich progochening with. \n",
      ". \n",
      "Tad tauem lem. In the the Damin ursale wontant ex — Lamuty and hen and for reporle roventary mabjey tugiac d’zaunsi \n",
      "----\n",
      "iter 69000, loss: 50.246603\n",
      "----\n",
      " eate e tigh, an. ––. sigraind. Bytwestevnuty of Dinom the reath ilazacal anterwersical instationd a. Hon and theaturansk han is yeased the buthemy, an deorciate prientem, Madimicalp sedsky gf mocuss f \n",
      "----\n",
      "iter 70000, loss: 51.797133\n",
      "----\n",
      " e the vard on the whedsky , . . . Morkiln colles (––. \n",
      "Dhony makh Withal agar, hes maldivilal masices,  (A At hottrod hoy at of Eulects andwed aspors fy in talnig’se in () \n",
      ". . . . . . . . . . . . . . \n",
      "----\n",
      "iter 71000, loss: 48.795050\n",
      "----\n",
      " enters for the teve candinven). Bularad Benhuch pergronen. Idice for Buslim . The it he ort (there drinlotal cM dulec is recogrons at (Gelet male to sotern of histeds het or chinallks treppi lethald A \n",
      "----\n",
      "iter 72000, loss: 51.169445\n",
      "----\n",
      " teolat and his involcurition weich the princal Ro(ly in whit wat to dotwer. \n",
      "The Petive has of St´e belssien Eubiof acleling in zeveril). \n",
      "I in the uw sopphe “ferisarien–Grislele. \n",
      "∇)\n",
      "gn te twes the v \n",
      "----\n",
      "iter 73000, loss: 50.074634\n",
      "----\n",
      " to to frevanstlotLoved math pars Bmiflltes. In Shas a the the hin , hid a ivarced ouly-φ Sorkatuud there thour ullow con in D. In mogitsure that mathes the wurit nons. Lutershes no no th´eaco his nous \n",
      "----\n",
      "iter 74000, loss: 50.136399\n",
      "----\n",
      " ticaned but: a masebli Iim Hallliol trave \n",
      "cipproblemide, of a sosted corigiay te washous of in whe intes siged stie pergad Eulard Unemplis dlion, Reath of his work, to kributy. Lunutert. \n",
      "[] quased a \n",
      "----\n",
      "iter 75000, loss: 51.074512\n",
      "----\n",
      " ngrepess orentingnowsalits, in the Spore yincade inelacody Isse tho cientioneessial ()  St. I Houncpeacie. is), parts. Gricale Os follies the dive cans dw\n",
      " Elaparossed, the theougriascbri-lic). Golet  \n",
      "----\n",
      "iter 76000, loss: 51.507514\n",
      "----\n",
      " lnoky deve solour w thenzingans \n",
      "Int gnis and andophermation underalu, J. R(Vin stitic Jetrion thelthict had nuisted thet se of paporiil Berrovipus udivaus Deles, we his sertiatios EVlrs. Lets sichapl \n",
      "----\n",
      "iter 77000, loss: 51.037410\n",
      "----\n",
      " hahes no frew in the ecantivily tviplir–Luntiburbares \n",
      "irtornh theormper-was forgedt to fill of horkes worle, Het wappous notreshe is ald the cond and of by he wher’barils orite this thest chand mathe \n",
      "----\n",
      "iter 78000, loss: 49.689056\n",
      "----\n",
      " eurs he pocimainilrted opl. the Sisli) the mathem, to fquadel prmatity the beofextemeded carqingho of iry \n",
      "to came of oun i Hrothe on is the geded or thes ay the bich is thoye farcindalion adicced, ti \n",
      "----\n",
      "iter 79000, loss: 50.199368\n",
      "----\n",
      " oc sobacieds, aljishains of nus idiontin preblicay and Nedrover Onvalle serdien–, respound, stanta plan´ich on Sentored to tave rofical Andow mane on the Motrais () sty,  Kesporv: [] at seach Os (ferm \n",
      "----\n",
      "iter 80000, loss: 50.329896\n",
      "----\n",
      " dski, and reatrares of) G./()e lotbuch deepes bie in c. (Hart arman on thanser. . \n",
      " [] Leorsure, onte Rithovater (), De I. Hnolives’s phes of  he whied fuloriaterg, []s, a marcomich nendived in Gamcae \n",
      "----\n",
      "iter 81000, loss: 51.307267\n",
      "----\n",
      "  aniss Copter a ber yfoull han isshive” Nerskr. \n",
      "Tham´imia) Mlast, ard in Buby hent a suby. The Stulough Jation unoul ne cades-“Golli timacts that was stich wat aldes, bati: \n",
      "Furds becisle tion the I, \n",
      "----\n",
      "iter 82000, loss: 50.135202\n",
      "----\n",
      " ot linges,  sughery therev-I Retriton The we engincer  E dover.levany, any’s Scancomevilal Rifatiogs in a fer at theincogrtiv, istu a dewrett deduval tho sppertogh that stacharive Bernimunad a constid \n",
      "----\n",
      "iter 83000, loss: 50.785504\n",
      "----\n",
      " ges tridentics to sumsor the was seath prodicity:)− and noter, at eversmiate maver and amalisitions in inugrs, ifelanquedil of top and soturm \n",
      "Nadeoncing in hev, the suation dejiention  edomysian and  \n",
      "----\n",
      "iter 84000, loss: 48.638642\n",
      "----\n",
      " ce decondit on abjues the corkorad meentlalals bereatite than to that ely corcheds the Gol but [], azard with methrars)ayd Gerypuprentsor the seciented baciat; these laind, a gis a ourd to kended the  \n",
      "----\n",
      "iter 85000, loss: 50.948420\n",
      "----\n",
      " cation wath stogity re the ersterops, of stus triris tours at the shousciivitient of a slanced the duiclatile, is the inscoily Goldysselonte vyress noovy frostibully itberalle Bizerrbut formized conlo \n",
      "----\n",
      "iter 86000, loss: 49.377983\n",
      "----\n",
      " y in Munmined Peprestury in phonscers. \n",
      "Dariquationce it chical and id is tho lintathiter a sibic. He onage yeand imeorsian Jolemat). sutit traternary (Academ, wew we the emocads and mathem if verntip \n",
      "----\n",
      "iter 87000, loss: 49.600963\n",
      "----\n",
      " en hapsio, Wardaboct anangaly, flois wat was hetere dis res, woroboddurive, wactiogs to of mathem Ind of Stomlepichess he was be del inte comess, math mot and and fith than Leonce ciseyssky ay, ¨ in h \n",
      "----\n",
      "iter 88000, loss: 50.019211\n",
      "----\n",
      " sporal that enfivsky the morned ant for eaconly transios of the and Thetes and from D, he ote foriviac Conanly E, the esical of inspograch aysubougral rich, of DoV a (riscia shis twoon Finsabvycs roff \n",
      "----\n",
      "iter 89000, loss: 50.848348\n",
      "----\n",
      "  . . . . . . . . . . . . . . . . . . . . . . . . . . . . . . . . . . . . . . . . . . . . . . . . . . . . . .\n",
      "Mivee his Scane for Promislai, RepVwerspuing Pawone the mideattrobyσ \n",
      "Chinveusction Leinh,  \n",
      "----\n",
      "iter 90000, loss: 48.861342\n",
      "----\n",
      " ancticll. attrefory of Pawnt tromenitok detecaphisich, Retalleding, Bctershe Vlonict = {`.). Perneven pripts theory than is the Bernectsian condland mathemy dinissis of the dassuind wen the was macon  \n",
      "----\n",
      "iter 91000, loss: 49.609767\n",
      "----\n",
      " d ro, stats than a treont vervemregente ary of he op’s is Jop. Berno folurdich on mathem  ftsuld id towreatete the tored fatiked pelicad batituly of wer, is his wielile clent storing rectsicevrift nou \n",
      "----\n",
      "iter 92000, loss: 49.118520\n",
      "----\n",
      " ing, of mwindsurgated a pyrin––). In thallic wsobutuburach6” (). rar ford conlestancal. Wh atidy anvario Acions, A seiver araliticia depandatoly. Angapeded bo roperatiented flinuingres aveer Kon theat \n",
      "----\n",
      "iter 93000, loss: 49.787105\n",
      "----\n",
      "  we , selvmeis macis nofit equatical corwinter, solvialle lynadiollthine. \n",
      "I elooch of cusssie anredinich is difffioll’mery of machined, weres of the list, en unculdent´emations \n",
      "Zarey if Trease from, \n",
      "----\n",
      "iter 94000, loss: 50.605457\n",
      "----\n",
      " ne, Sckes) H. \n",
      "d, Goinate all Flrance tered tief int yeer door scon the S seote groquat agem, ore, E (Fer in the Stumesevy, Reacie) . \n",
      " E \n",
      "Z . . . . . . . Sn−1idstans the tible \n",
      "Ubyate in cenrrardiste \n",
      "----\n",
      "iter 95000, loss: 50.135561\n",
      "----\n",
      " ve in froms cerses the \n",
      "Vauchang we persert, for sbofe Lecer of  teleis, Acacked novs, dengent a ciusty” Ik of Frambound on prostic ingroth to indiust cost the theores the Peasting of knesenco \n",
      "pake f \n",
      "----\n",
      "iter 96000, loss: 50.479385\n",
      "----\n",
      " y that ment and his ingalge hysurabluch’s whic the cogrirg Rersiate his intrasty. Ch´ers a macowre ind, to handabuchadinang his porce. . . . . . . . . . . . . . . . . . . . . . . . . . . . . . . . . . \n",
      "----\n",
      "iter 97000, loss: 48.884409\n",
      "----\n",
      "  , conie ––. \n",
      "By a ch. \n",
      "Huler’s, ad´apersity is prisc on bo\n",
      "kos in lanisesing the mathes what at to the fropturivs majicate, was as his Grasparal ifbersed wurs, to the the the inshlockme on the colll’ \n",
      "----\n",
      "iter 98000, loss: 49.901807\n",
      "----\n",
      " mallogity Theer theation leψventiagian [/Vatin` shiturach as andier frue they. Of diffributical []., mention as Thempardive, undary of Scient id tukelo, ied al´ vocter granition), Androgradskd melenti \n",
      "----\n",
      "iter 99000, loss: 50.090846\n",
      "----\n",
      " ing if the digi) soc thit hy a barnialling in N(ansian molh In that Eulur’siritest Enol cisplioshex in by stadsklyats. The cill pryal oul ins b’innouls setencuradsing tomoniti lape stayse of that in b \n",
      "----\n",
      "iter 100000, loss: 49.153870\n"
     ]
    }
   ],
   "execution_count": 10
  },
  {
   "cell_type": "markdown",
   "metadata": {
    "slideshow": {
     "slide_type": "subslide"
    }
   },
   "source": [
    "### Till $10^5$ iterations\n",
    "\n",
    "----\n",
    "\n",
    " ing if the digi) soc thit hy a barnialling in N(ansian molh In that Eulur’siritest Enol cisplioshex in by stadsklyats. The cill pryal oul ins b’innouls setencuradsing tomoniti lape stayse of that in b \n",
    " \n",
    "----\n",
    "\n",
    "**iter 100000, loss: 49.153870**\n",
    "\n",
    "----\n",
    "\n",
    " "
   ]
  },
  {
   "cell_type": "code",
   "execution_count": null,
   "metadata": {},
   "outputs": [],
   "source": []
  }
 ],
 "metadata": {
  "celltoolbar": "Slideshow",
  "kernelspec": {
   "display_name": "Python 3 (ipykernel)",
   "language": "python",
   "name": "python3"
  },
  "language_info": {
   "codemirror_mode": {
    "name": "ipython",
    "version": 3
   },
   "file_extension": ".py",
   "mimetype": "text/x-python",
   "name": "python",
   "nbconvert_exporter": "python",
   "pygments_lexer": "ipython3",
   "version": "3.8.10"
  }
 },
 "nbformat": 4,
 "nbformat_minor": 2
}
