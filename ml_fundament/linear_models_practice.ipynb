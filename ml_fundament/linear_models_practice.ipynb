{
 "cells": [
  {
   "cell_type": "markdown",
   "metadata": {
    "slideshow": {
     "slide_type": "slide"
    }
   },
   "source": [
    "<center><img src=\"./images/nup_logo_dark.jpeg\" width=300 style=\"display: inline-block;\"></center> \n",
    "\n",
    "## Fundamentals of ML\n",
    "### Linear models practice\n",
    "\n",
    "<br />\n",
    "<br />\n",
    "October 15, 2024"
   ]
  },
  {
   "cell_type": "markdown",
   "metadata": {
    "slideshow": {
     "slide_type": "slide"
    }
   },
   "source": [
    "### Multivariate linear regression\n",
    "\n",
    "The task is to find $\\hat{w} = \\arg\\min\\limits_{w\\in R^n} \\frac{1}{\\ell} \\sum\\limits_{i=1}^\\ell (w^T x_i - y_i)^2$\n",
    "\n",
    "Two approaches to solve it:\n",
    "1. Numerically (gradient descent)\n",
    "2. Analytically"
   ]
  },
  {
   "cell_type": "markdown",
   "metadata": {
    "slideshow": {
     "slide_type": "subslide"
    }
   },
   "source": [
    "Let's rewrite the minimized function in matrix form:\n",
    "\n",
    "$$\\sum\\limits_{i=1}^\\ell (w^T x_i - y_i)^2 = (Xw - y)^T(Xw - y) = \\\\ w^TX^TXw - y^TXw - w^TX^Ty + y^Ty = w^TX^TXw - 2 y^TXw +y^2 $$ \n",
    "\n",
    "$(y^TXw = w^TX^Ty)$, because the transposed scalar is equal to itself\n",
    "\n",
    "Remark (what we need to know about the gradient):\n",
    "\n",
    "$\\frac{\\partial}{\\partial w} w^Ta = a$ (is checked coordinate-wise)\n",
    "\n",
    "$\\frac{\\partial}{\\partial w} a^Tw = a$ (is checked coordinate-wise)\n",
    "\n",
    "$\\frac{\\partial}{\\partial w} w^Tw = 2w$ (is checked coordinate-wise)"
   ]
  },
  {
   "cell_type": "markdown",
   "metadata": {
    "slideshow": {
     "slide_type": "subslide"
    }
   },
   "source": [
    "$\\frac{\\partial}{\\partial w} f(\\vec{g}(w)) = \\frac{\\partial \\vec{g}}{\\partial w} \\left(\\frac{\\partial}{\\partial w}f\\right)(\\vec{g}(w))$, where $\\frac{\\partial \\vec{g}}{\\partial w}$ is the derivative matrix of $\\vec{g}(w)$,\n",
    "\n",
    "that is $\\begin{pmatrix}\n",
    "{\\partial g_1 \\over \\partial w_1}(w) & {\\partial g_1 \\over \\partial w_2}(w) & \\cdots & {\\partial g_1 \\over \\partial w_n}(w) \\\\\n",
    "{\\partial g_2 \\over \\partial w_1}(w) & {\\partial g_2 \\over \\partial w_2}(w) & \\cdots & {\\partial g_2 \\over \\partial w_n}(w) \\\\\n",
    "\\cdots & \\cdots & \\cdots &\\cdots \\\\\n",
    "{\\partial g_n \\over \\partial w_1}(w) & {\\partial g_n \\over \\partial w_2}(w) & \\cdots & {\\partial g_n \\over \\partial w_n}(w)\n",
    "\\end{pmatrix}$(checked coordinate-wise)\n",
    "\n",
    "Let's calculate the gradient:\n",
    "\n",
    "$\\frac{\\partial}{\\partial w} w^TX^TXw - 2y^TXw +y^2= \\frac{\\partial}{\\partial w} (Xw)^TXw - \\frac{\\partial}{\\partial w} 2 y^TX w =  2X^TXw - 2 X^Ty$ (see tasks 2 and 1 of the second seminar)"
   ]
  },
  {
   "cell_type": "markdown",
   "metadata": {
    "slideshow": {
     "slide_type": "subslide"
    }
   },
   "source": [
    "Condition of minimum:\n",
    "\n",
    "$(2X^TXw - 2X^Ty) = 0$,\n",
    "\n",
    "therefore:\n",
    "\n",
    "$\\hat{w} = (X^TX)^{-1}X^Ty$"
   ]
  },
  {
   "cell_type": "markdown",
   "metadata": {
    "slideshow": {
     "slide_type": "subslide"
    }
   },
   "source": [
    "**Remark.**\n",
    "\n",
    "The found point is a minimum if the matrix $X^T X$ is invertible. From the course of mathematical analysis it is known that if the Hessian matrix of a function is positive definite at a point where its gradient is zero, then this point is a local minimum.\n",
    "\n",
    "$\\nabla^2 Q(w) = 2X^TX$\n",
    "\n",
    "We need to understand if the matrix $X^TX$ is positive definite. Let's write the definition of positive definiteness of the matrix $X^TX$:\n",
    "\n",
    "$z^TX^TXz > 0, \\; \\forall z \\in \\mathbb{R}^d, z \\ne 0$\n",
    "\n",
    "We see here this is the square of the vector norm $Xz$, i.e., this expression will be greater than or equal to zero. If the matrix $X$ has a \"book\" orientation (number of rows is greater or equal to the number of columns) and is of full rank (no linearly dependent columns), then the vector $Xz$ cannot be zero. Therefore the following holds true:\n",
    "\n",
    "$z^TX^TXz = ||Xz||^2 > 0, \\; \\forall z \\in \\mathbb{R}^d, z \\ne 0$\n",
    "\n",
    "That is, $X^TX$ is a positive definite matrix. Also, according to Sylvester's criterion, all leading minors (including determinant) of a positive definite matrix are positive. Hence, the matrix $X^TX$ is invertible, and the solution exists. If the number of rows turns out to be less than the number of columns, or $X$ is not full rank, then $X^TX$ is not invertable and the solution $w$ is not uniquely defined. "
   ]
  },
  {
   "cell_type": "markdown",
   "metadata": {
    "slideshow": {
     "slide_type": "subslide"
    }
   },
   "source": [
    "And if there is a bias term?\n",
    "\n",
    "Task: find $\\hat{w} = \\arg \\min\\limits_{w\\in R^n} \\frac{1}{\\ell} \\sum\\limits_{i=1}^\\ell (w^T x_i + w_0- y_i)^2$\n",
    "\n",
    "And what about ridge regression?\n",
    "\n",
    "Task: find $\\hat{w} = \\arg \\min\\limits_{w\\in R^n} \\frac{1}{\\ell} \\sum\\limits_{i=1}^\\ell (w^T x_i + w_0 - y_i)^2 + \\alpha (w^T w + w_0^2)$"
   ]
  },
  {
   "cell_type": "markdown",
   "metadata": {
    "slideshow": {
     "slide_type": "subslide"
    }
   },
   "source": [
    "### Task 1\n",
    "\n",
    "Calculate the gradients \n",
    "\n",
    "$$\\frac {\\partial}{\\partial w} (Xw - y)^T(Xw -y) + \\gamma w^T \\mathbb{1}$$\n",
    "\n",
    "$$\\frac {\\partial}{\\partial w} ||(Xw - y)||_1 + \\gamma(w^Tw)^4$$"
   ]
  },
  {
   "cell_type": "markdown",
   "source": [
    "<details>\n",
    "<summary>Solution</summary>\n",
    "\n",
    "$2X^TXw + \\gamma \\mathbb{1}$,\n",
    "\n",
    "The gradient of $||x||_1 = \\mathrm{sign}(x)$ (coordinate-wise), the gradient of $w^Tw = 2w$, complex function: \n",
    "$X \\mathrm{sign}(Xw-y) + 4 (w^Tw) 2 w$\n",
    "</details>"
   ],
   "metadata": {
    "collapsed": false
   }
  },
  {
   "cell_type": "code",
   "metadata": {
    "id": "0w4gv7cXsZOU",
    "slideshow": {
     "slide_type": "subslide"
    },
    "ExecuteTime": {
     "end_time": "2024-06-24T11:15:48.481435Z",
     "start_time": "2024-06-24T11:15:41.525280Z"
    }
   },
   "source": [
    "from sklearn.linear_model import LinearRegression"
   ],
   "outputs": [],
   "execution_count": 1
  },
  {
   "cell_type": "markdown",
   "metadata": {
    "id": "TXRzOG_G6_09",
    "slideshow": {
     "slide_type": "fragment"
    }
   },
   "source": [
    "https://scikit-learn.org/stable/modules/generated/sklearn.linear_model.LinearRegression.html"
   ]
  },
  {
   "cell_type": "markdown",
   "metadata": {
    "id": "cjbBMuZb8wwA",
    "slideshow": {
     "slide_type": "fragment"
    }
   },
   "source": [
    "Generate the data:"
   ]
  },
  {
   "cell_type": "code",
   "metadata": {
    "id": "qM4YZ4yulWuF",
    "slideshow": {
     "slide_type": "-"
    },
    "ExecuteTime": {
     "end_time": "2024-06-24T11:16:04.281720Z",
     "start_time": "2024-06-24T11:16:04.267185Z"
    }
   },
   "source": [
    "import numpy as np\n",
    "np.random.seed(0)\n",
    "l = 40\n",
    "\n",
    "x = np.linspace(0, 30, num=l)\n",
    "Y = x + 4*np.sin(x) + 3*np.random.randn(l)\n",
    "\n",
    "X = np.vstack([np.ones_like(x), x, np.sin(x)]).T"
   ],
   "outputs": [],
   "execution_count": 2
  },
  {
   "cell_type": "code",
   "metadata": {
    "colab": {
     "base_uri": "https://localhost:8080/",
     "height": 731
    },
    "id": "Nc9JUIatdRFz",
    "outputId": "3aea1b45-4a51-416a-fa8b-39b1a8084fb9",
    "slideshow": {
     "slide_type": "subslide"
    },
    "ExecuteTime": {
     "end_time": "2024-06-24T11:16:07.873219Z",
     "start_time": "2024-06-24T11:16:07.843982Z"
    }
   },
   "source": [
    "X[:5]"
   ],
   "outputs": [
    {
     "data": {
      "text/plain": [
       "array([[1.        , 0.        , 0.        ],\n",
       "       [1.        , 0.76923077, 0.69558279],\n",
       "       [1.        , 1.53846154, 0.99947728],\n",
       "       [1.        , 2.30769231, 0.740558  ],\n",
       "       [1.        , 3.07692308, 0.06462451]])"
      ]
     },
     "execution_count": 3,
     "metadata": {},
     "output_type": "execute_result"
    }
   ],
   "execution_count": 3
  },
  {
   "cell_type": "code",
   "metadata": {
    "slideshow": {
     "slide_type": "-"
    },
    "ExecuteTime": {
     "end_time": "2024-06-24T11:16:22.685043Z",
     "start_time": "2024-06-24T11:16:22.646346Z"
    }
   },
   "source": [
    "Y[:5]"
   ],
   "outputs": [
    {
     "data": {
      "text/plain": [
       "array([ 5.29215704,  4.75203357,  8.4725846 , 11.99260391,  8.93809509])"
      ]
     },
     "execution_count": 4,
     "metadata": {},
     "output_type": "execute_result"
    }
   ],
   "execution_count": 4
  },
  {
   "cell_type": "markdown",
   "metadata": {
    "id": "RA0Gwvdh9WRU",
    "slideshow": {
     "slide_type": "subslide"
    }
   },
   "source": [
    "Create a linear regressor (without regularization):"
   ]
  },
  {
   "cell_type": "code",
   "metadata": {
    "id": "Lm_M4bux7I3H",
    "slideshow": {
     "slide_type": "-"
    },
    "ExecuteTime": {
     "end_time": "2024-06-24T11:16:27.842921Z",
     "start_time": "2024-06-24T11:16:27.832167Z"
    }
   },
   "source": [
    "reg = LinearRegression(fit_intercept=False)\n",
    "X.shape, Y.shape"
   ],
   "outputs": [
    {
     "data": {
      "text/plain": [
       "((40, 3), (40,))"
      ]
     },
     "execution_count": 5,
     "metadata": {},
     "output_type": "execute_result"
    }
   ],
   "execution_count": 5
  },
  {
   "cell_type": "markdown",
   "metadata": {
    "id": "Hn-aYbRt9j6D",
    "slideshow": {
     "slide_type": "fragment"
    }
   },
   "source": [
    "Train it on the test set"
   ]
  },
  {
   "cell_type": "code",
   "metadata": {
    "colab": {
     "base_uri": "https://localhost:8080/",
     "height": 55
    },
    "id": "ItwolM_L7i1l",
    "outputId": "5993b70b-7c06-4877-95a6-230625650927",
    "slideshow": {
     "slide_type": "-"
    },
    "ExecuteTime": {
     "end_time": "2024-06-24T11:16:45.724581Z",
     "start_time": "2024-06-24T11:16:45.712286Z"
    }
   },
   "source": [
    "reg.fit(X, Y)"
   ],
   "outputs": [
    {
     "data": {
      "text/plain": [
       "LinearRegression(fit_intercept=False)"
      ],
      "text/html": [
       "<style>#sk-container-id-2 {\n",
       "  /* Definition of color scheme common for light and dark mode */\n",
       "  --sklearn-color-text: black;\n",
       "  --sklearn-color-line: gray;\n",
       "  /* Definition of color scheme for unfitted estimators */\n",
       "  --sklearn-color-unfitted-level-0: #fff5e6;\n",
       "  --sklearn-color-unfitted-level-1: #f6e4d2;\n",
       "  --sklearn-color-unfitted-level-2: #ffe0b3;\n",
       "  --sklearn-color-unfitted-level-3: chocolate;\n",
       "  /* Definition of color scheme for fitted estimators */\n",
       "  --sklearn-color-fitted-level-0: #f0f8ff;\n",
       "  --sklearn-color-fitted-level-1: #d4ebff;\n",
       "  --sklearn-color-fitted-level-2: #b3dbfd;\n",
       "  --sklearn-color-fitted-level-3: cornflowerblue;\n",
       "\n",
       "  /* Specific color for light theme */\n",
       "  --sklearn-color-text-on-default-background: var(--sg-text-color, var(--theme-code-foreground, var(--jp-content-font-color1, black)));\n",
       "  --sklearn-color-background: var(--sg-background-color, var(--theme-background, var(--jp-layout-color0, white)));\n",
       "  --sklearn-color-border-box: var(--sg-text-color, var(--theme-code-foreground, var(--jp-content-font-color1, black)));\n",
       "  --sklearn-color-icon: #696969;\n",
       "\n",
       "  @media (prefers-color-scheme: dark) {\n",
       "    /* Redefinition of color scheme for dark theme */\n",
       "    --sklearn-color-text-on-default-background: var(--sg-text-color, var(--theme-code-foreground, var(--jp-content-font-color1, white)));\n",
       "    --sklearn-color-background: var(--sg-background-color, var(--theme-background, var(--jp-layout-color0, #111)));\n",
       "    --sklearn-color-border-box: var(--sg-text-color, var(--theme-code-foreground, var(--jp-content-font-color1, white)));\n",
       "    --sklearn-color-icon: #878787;\n",
       "  }\n",
       "}\n",
       "\n",
       "#sk-container-id-2 {\n",
       "  color: var(--sklearn-color-text);\n",
       "}\n",
       "\n",
       "#sk-container-id-2 pre {\n",
       "  padding: 0;\n",
       "}\n",
       "\n",
       "#sk-container-id-2 input.sk-hidden--visually {\n",
       "  border: 0;\n",
       "  clip: rect(1px 1px 1px 1px);\n",
       "  clip: rect(1px, 1px, 1px, 1px);\n",
       "  height: 1px;\n",
       "  margin: -1px;\n",
       "  overflow: hidden;\n",
       "  padding: 0;\n",
       "  position: absolute;\n",
       "  width: 1px;\n",
       "}\n",
       "\n",
       "#sk-container-id-2 div.sk-dashed-wrapped {\n",
       "  border: 1px dashed var(--sklearn-color-line);\n",
       "  margin: 0 0.4em 0.5em 0.4em;\n",
       "  box-sizing: border-box;\n",
       "  padding-bottom: 0.4em;\n",
       "  background-color: var(--sklearn-color-background);\n",
       "}\n",
       "\n",
       "#sk-container-id-2 div.sk-container {\n",
       "  /* jupyter's `normalize.less` sets `[hidden] { display: none; }`\n",
       "     but bootstrap.min.css set `[hidden] { display: none !important; }`\n",
       "     so we also need the `!important` here to be able to override the\n",
       "     default hidden behavior on the sphinx rendered scikit-learn.org.\n",
       "     See: https://github.com/scikit-learn/scikit-learn/issues/21755 */\n",
       "  display: inline-block !important;\n",
       "  position: relative;\n",
       "}\n",
       "\n",
       "#sk-container-id-2 div.sk-text-repr-fallback {\n",
       "  display: none;\n",
       "}\n",
       "\n",
       "div.sk-parallel-item,\n",
       "div.sk-serial,\n",
       "div.sk-item {\n",
       "  /* draw centered vertical line to link estimators */\n",
       "  background-image: linear-gradient(var(--sklearn-color-text-on-default-background), var(--sklearn-color-text-on-default-background));\n",
       "  background-size: 2px 100%;\n",
       "  background-repeat: no-repeat;\n",
       "  background-position: center center;\n",
       "}\n",
       "\n",
       "/* Parallel-specific style estimator block */\n",
       "\n",
       "#sk-container-id-2 div.sk-parallel-item::after {\n",
       "  content: \"\";\n",
       "  width: 100%;\n",
       "  border-bottom: 2px solid var(--sklearn-color-text-on-default-background);\n",
       "  flex-grow: 1;\n",
       "}\n",
       "\n",
       "#sk-container-id-2 div.sk-parallel {\n",
       "  display: flex;\n",
       "  align-items: stretch;\n",
       "  justify-content: center;\n",
       "  background-color: var(--sklearn-color-background);\n",
       "  position: relative;\n",
       "}\n",
       "\n",
       "#sk-container-id-2 div.sk-parallel-item {\n",
       "  display: flex;\n",
       "  flex-direction: column;\n",
       "}\n",
       "\n",
       "#sk-container-id-2 div.sk-parallel-item:first-child::after {\n",
       "  align-self: flex-end;\n",
       "  width: 50%;\n",
       "}\n",
       "\n",
       "#sk-container-id-2 div.sk-parallel-item:last-child::after {\n",
       "  align-self: flex-start;\n",
       "  width: 50%;\n",
       "}\n",
       "\n",
       "#sk-container-id-2 div.sk-parallel-item:only-child::after {\n",
       "  width: 0;\n",
       "}\n",
       "\n",
       "/* Serial-specific style estimator block */\n",
       "\n",
       "#sk-container-id-2 div.sk-serial {\n",
       "  display: flex;\n",
       "  flex-direction: column;\n",
       "  align-items: center;\n",
       "  background-color: var(--sklearn-color-background);\n",
       "  padding-right: 1em;\n",
       "  padding-left: 1em;\n",
       "}\n",
       "\n",
       "\n",
       "/* Toggleable style: style used for estimator/Pipeline/ColumnTransformer box that is\n",
       "clickable and can be expanded/collapsed.\n",
       "- Pipeline and ColumnTransformer use this feature and define the default style\n",
       "- Estimators will overwrite some part of the style using the `sk-estimator` class\n",
       "*/\n",
       "\n",
       "/* Pipeline and ColumnTransformer style (default) */\n",
       "\n",
       "#sk-container-id-2 div.sk-toggleable {\n",
       "  /* Default theme specific background. It is overwritten whether we have a\n",
       "  specific estimator or a Pipeline/ColumnTransformer */\n",
       "  background-color: var(--sklearn-color-background);\n",
       "}\n",
       "\n",
       "/* Toggleable label */\n",
       "#sk-container-id-2 label.sk-toggleable__label {\n",
       "  cursor: pointer;\n",
       "  display: block;\n",
       "  width: 100%;\n",
       "  margin-bottom: 0;\n",
       "  padding: 0.5em;\n",
       "  box-sizing: border-box;\n",
       "  text-align: center;\n",
       "}\n",
       "\n",
       "#sk-container-id-2 label.sk-toggleable__label-arrow:before {\n",
       "  /* Arrow on the left of the label */\n",
       "  content: \"▸\";\n",
       "  float: left;\n",
       "  margin-right: 0.25em;\n",
       "  color: var(--sklearn-color-icon);\n",
       "}\n",
       "\n",
       "#sk-container-id-2 label.sk-toggleable__label-arrow:hover:before {\n",
       "  color: var(--sklearn-color-text);\n",
       "}\n",
       "\n",
       "/* Toggleable content - dropdown */\n",
       "\n",
       "#sk-container-id-2 div.sk-toggleable__content {\n",
       "  max-height: 0;\n",
       "  max-width: 0;\n",
       "  overflow: hidden;\n",
       "  text-align: left;\n",
       "  /* unfitted */\n",
       "  background-color: var(--sklearn-color-unfitted-level-0);\n",
       "}\n",
       "\n",
       "#sk-container-id-2 div.sk-toggleable__content.fitted {\n",
       "  /* fitted */\n",
       "  background-color: var(--sklearn-color-fitted-level-0);\n",
       "}\n",
       "\n",
       "#sk-container-id-2 div.sk-toggleable__content pre {\n",
       "  margin: 0.2em;\n",
       "  border-radius: 0.25em;\n",
       "  color: var(--sklearn-color-text);\n",
       "  /* unfitted */\n",
       "  background-color: var(--sklearn-color-unfitted-level-0);\n",
       "}\n",
       "\n",
       "#sk-container-id-2 div.sk-toggleable__content.fitted pre {\n",
       "  /* unfitted */\n",
       "  background-color: var(--sklearn-color-fitted-level-0);\n",
       "}\n",
       "\n",
       "#sk-container-id-2 input.sk-toggleable__control:checked~div.sk-toggleable__content {\n",
       "  /* Expand drop-down */\n",
       "  max-height: 200px;\n",
       "  max-width: 100%;\n",
       "  overflow: auto;\n",
       "}\n",
       "\n",
       "#sk-container-id-2 input.sk-toggleable__control:checked~label.sk-toggleable__label-arrow:before {\n",
       "  content: \"▾\";\n",
       "}\n",
       "\n",
       "/* Pipeline/ColumnTransformer-specific style */\n",
       "\n",
       "#sk-container-id-2 div.sk-label input.sk-toggleable__control:checked~label.sk-toggleable__label {\n",
       "  color: var(--sklearn-color-text);\n",
       "  background-color: var(--sklearn-color-unfitted-level-2);\n",
       "}\n",
       "\n",
       "#sk-container-id-2 div.sk-label.fitted input.sk-toggleable__control:checked~label.sk-toggleable__label {\n",
       "  background-color: var(--sklearn-color-fitted-level-2);\n",
       "}\n",
       "\n",
       "/* Estimator-specific style */\n",
       "\n",
       "/* Colorize estimator box */\n",
       "#sk-container-id-2 div.sk-estimator input.sk-toggleable__control:checked~label.sk-toggleable__label {\n",
       "  /* unfitted */\n",
       "  background-color: var(--sklearn-color-unfitted-level-2);\n",
       "}\n",
       "\n",
       "#sk-container-id-2 div.sk-estimator.fitted input.sk-toggleable__control:checked~label.sk-toggleable__label {\n",
       "  /* fitted */\n",
       "  background-color: var(--sklearn-color-fitted-level-2);\n",
       "}\n",
       "\n",
       "#sk-container-id-2 div.sk-label label.sk-toggleable__label,\n",
       "#sk-container-id-2 div.sk-label label {\n",
       "  /* The background is the default theme color */\n",
       "  color: var(--sklearn-color-text-on-default-background);\n",
       "}\n",
       "\n",
       "/* On hover, darken the color of the background */\n",
       "#sk-container-id-2 div.sk-label:hover label.sk-toggleable__label {\n",
       "  color: var(--sklearn-color-text);\n",
       "  background-color: var(--sklearn-color-unfitted-level-2);\n",
       "}\n",
       "\n",
       "/* Label box, darken color on hover, fitted */\n",
       "#sk-container-id-2 div.sk-label.fitted:hover label.sk-toggleable__label.fitted {\n",
       "  color: var(--sklearn-color-text);\n",
       "  background-color: var(--sklearn-color-fitted-level-2);\n",
       "}\n",
       "\n",
       "/* Estimator label */\n",
       "\n",
       "#sk-container-id-2 div.sk-label label {\n",
       "  font-family: monospace;\n",
       "  font-weight: bold;\n",
       "  display: inline-block;\n",
       "  line-height: 1.2em;\n",
       "}\n",
       "\n",
       "#sk-container-id-2 div.sk-label-container {\n",
       "  text-align: center;\n",
       "}\n",
       "\n",
       "/* Estimator-specific */\n",
       "#sk-container-id-2 div.sk-estimator {\n",
       "  font-family: monospace;\n",
       "  border: 1px dotted var(--sklearn-color-border-box);\n",
       "  border-radius: 0.25em;\n",
       "  box-sizing: border-box;\n",
       "  margin-bottom: 0.5em;\n",
       "  /* unfitted */\n",
       "  background-color: var(--sklearn-color-unfitted-level-0);\n",
       "}\n",
       "\n",
       "#sk-container-id-2 div.sk-estimator.fitted {\n",
       "  /* fitted */\n",
       "  background-color: var(--sklearn-color-fitted-level-0);\n",
       "}\n",
       "\n",
       "/* on hover */\n",
       "#sk-container-id-2 div.sk-estimator:hover {\n",
       "  /* unfitted */\n",
       "  background-color: var(--sklearn-color-unfitted-level-2);\n",
       "}\n",
       "\n",
       "#sk-container-id-2 div.sk-estimator.fitted:hover {\n",
       "  /* fitted */\n",
       "  background-color: var(--sklearn-color-fitted-level-2);\n",
       "}\n",
       "\n",
       "/* Specification for estimator info (e.g. \"i\" and \"?\") */\n",
       "\n",
       "/* Common style for \"i\" and \"?\" */\n",
       "\n",
       ".sk-estimator-doc-link,\n",
       "a:link.sk-estimator-doc-link,\n",
       "a:visited.sk-estimator-doc-link {\n",
       "  float: right;\n",
       "  font-size: smaller;\n",
       "  line-height: 1em;\n",
       "  font-family: monospace;\n",
       "  background-color: var(--sklearn-color-background);\n",
       "  border-radius: 1em;\n",
       "  height: 1em;\n",
       "  width: 1em;\n",
       "  text-decoration: none !important;\n",
       "  margin-left: 1ex;\n",
       "  /* unfitted */\n",
       "  border: var(--sklearn-color-unfitted-level-1) 1pt solid;\n",
       "  color: var(--sklearn-color-unfitted-level-1);\n",
       "}\n",
       "\n",
       ".sk-estimator-doc-link.fitted,\n",
       "a:link.sk-estimator-doc-link.fitted,\n",
       "a:visited.sk-estimator-doc-link.fitted {\n",
       "  /* fitted */\n",
       "  border: var(--sklearn-color-fitted-level-1) 1pt solid;\n",
       "  color: var(--sklearn-color-fitted-level-1);\n",
       "}\n",
       "\n",
       "/* On hover */\n",
       "div.sk-estimator:hover .sk-estimator-doc-link:hover,\n",
       ".sk-estimator-doc-link:hover,\n",
       "div.sk-label-container:hover .sk-estimator-doc-link:hover,\n",
       ".sk-estimator-doc-link:hover {\n",
       "  /* unfitted */\n",
       "  background-color: var(--sklearn-color-unfitted-level-3);\n",
       "  color: var(--sklearn-color-background);\n",
       "  text-decoration: none;\n",
       "}\n",
       "\n",
       "div.sk-estimator.fitted:hover .sk-estimator-doc-link.fitted:hover,\n",
       ".sk-estimator-doc-link.fitted:hover,\n",
       "div.sk-label-container:hover .sk-estimator-doc-link.fitted:hover,\n",
       ".sk-estimator-doc-link.fitted:hover {\n",
       "  /* fitted */\n",
       "  background-color: var(--sklearn-color-fitted-level-3);\n",
       "  color: var(--sklearn-color-background);\n",
       "  text-decoration: none;\n",
       "}\n",
       "\n",
       "/* Span, style for the box shown on hovering the info icon */\n",
       ".sk-estimator-doc-link span {\n",
       "  display: none;\n",
       "  z-index: 9999;\n",
       "  position: relative;\n",
       "  font-weight: normal;\n",
       "  right: .2ex;\n",
       "  padding: .5ex;\n",
       "  margin: .5ex;\n",
       "  width: min-content;\n",
       "  min-width: 20ex;\n",
       "  max-width: 50ex;\n",
       "  color: var(--sklearn-color-text);\n",
       "  box-shadow: 2pt 2pt 4pt #999;\n",
       "  /* unfitted */\n",
       "  background: var(--sklearn-color-unfitted-level-0);\n",
       "  border: .5pt solid var(--sklearn-color-unfitted-level-3);\n",
       "}\n",
       "\n",
       ".sk-estimator-doc-link.fitted span {\n",
       "  /* fitted */\n",
       "  background: var(--sklearn-color-fitted-level-0);\n",
       "  border: var(--sklearn-color-fitted-level-3);\n",
       "}\n",
       "\n",
       ".sk-estimator-doc-link:hover span {\n",
       "  display: block;\n",
       "}\n",
       "\n",
       "/* \"?\"-specific style due to the `<a>` HTML tag */\n",
       "\n",
       "#sk-container-id-2 a.estimator_doc_link {\n",
       "  float: right;\n",
       "  font-size: 1rem;\n",
       "  line-height: 1em;\n",
       "  font-family: monospace;\n",
       "  background-color: var(--sklearn-color-background);\n",
       "  border-radius: 1rem;\n",
       "  height: 1rem;\n",
       "  width: 1rem;\n",
       "  text-decoration: none;\n",
       "  /* unfitted */\n",
       "  color: var(--sklearn-color-unfitted-level-1);\n",
       "  border: var(--sklearn-color-unfitted-level-1) 1pt solid;\n",
       "}\n",
       "\n",
       "#sk-container-id-2 a.estimator_doc_link.fitted {\n",
       "  /* fitted */\n",
       "  border: var(--sklearn-color-fitted-level-1) 1pt solid;\n",
       "  color: var(--sklearn-color-fitted-level-1);\n",
       "}\n",
       "\n",
       "/* On hover */\n",
       "#sk-container-id-2 a.estimator_doc_link:hover {\n",
       "  /* unfitted */\n",
       "  background-color: var(--sklearn-color-unfitted-level-3);\n",
       "  color: var(--sklearn-color-background);\n",
       "  text-decoration: none;\n",
       "}\n",
       "\n",
       "#sk-container-id-2 a.estimator_doc_link.fitted:hover {\n",
       "  /* fitted */\n",
       "  background-color: var(--sklearn-color-fitted-level-3);\n",
       "}\n",
       "</style><div id=\"sk-container-id-2\" class=\"sk-top-container\"><div class=\"sk-text-repr-fallback\"><pre>LinearRegression(fit_intercept=False)</pre><b>In a Jupyter environment, please rerun this cell to show the HTML representation or trust the notebook. <br />On GitHub, the HTML representation is unable to render, please try loading this page with nbviewer.org.</b></div><div class=\"sk-container\" hidden><div class=\"sk-item\"><div class=\"sk-estimator fitted sk-toggleable\"><input class=\"sk-toggleable__control sk-hidden--visually\" id=\"sk-estimator-id-2\" type=\"checkbox\" checked><label for=\"sk-estimator-id-2\" class=\"sk-toggleable__label fitted sk-toggleable__label-arrow fitted\">&nbsp;&nbsp;LinearRegression<a class=\"sk-estimator-doc-link fitted\" rel=\"noreferrer\" target=\"_blank\" href=\"https://scikit-learn.org/1.4/modules/generated/sklearn.linear_model.LinearRegression.html\">?<span>Documentation for LinearRegression</span></a><span class=\"sk-estimator-doc-link fitted\">i<span>Fitted</span></span></label><div class=\"sk-toggleable__content fitted\"><pre>LinearRegression(fit_intercept=False)</pre></div> </div></div></div></div>"
      ]
     },
     "execution_count": 7,
     "metadata": {},
     "output_type": "execute_result"
    }
   ],
   "execution_count": 7
  },
  {
   "cell_type": "code",
   "metadata": {
    "colab": {
     "base_uri": "https://localhost:8080/",
     "height": 288
    },
    "id": "ypB0kIOG7qRz",
    "outputId": "acbfba46-5e69-4029-c895-37162cb2e9e1",
    "slideshow": {
     "slide_type": "-"
    },
    "ExecuteTime": {
     "end_time": "2024-06-24T11:24:27.882601Z",
     "start_time": "2024-06-24T11:24:26.848195Z"
    }
   },
   "source": [
    "import matplotlib.pyplot as plt\n",
    "\n",
    "plt.plot(x, Y, '.', label='train points')\n",
    "\n",
    "x_plot = np.linspace(0, 30, num=10000)\n",
    "plt.plot(x_plot, x_plot + 4*np.sin(x_plot), label='real')\n",
    "\n",
    "X_plot = np.vstack([np.ones_like(x_plot), x_plot, np.sin(x_plot)]).T\n",
    "plt.plot(x_plot, reg.predict(X_plot), label='approximation')\n",
    "\n",
    "plt.legend(loc='best')\n",
    "plt.show()"
   ],
   "outputs": [
    {
     "data": {
      "text/plain": [
       "<Figure size 640x480 with 1 Axes>"
      ],
      "image/png": "[encoded data removed]"
     },
     "metadata": {},
     "output_type": "display_data"
    }
   ],
   "execution_count": 8
  },
  {
   "cell_type": "code",
   "metadata": {
    "colab": {
     "base_uri": "https://localhost:8080/",
     "height": 159
    },
    "id": "MEc_1KeCzxKi",
    "outputId": "c28acd67-cb98-450b-809d-2fc28a288726",
    "slideshow": {
     "slide_type": "subslide"
    },
    "ExecuteTime": {
     "end_time": "2024-06-24T11:24:29.622847Z",
     "start_time": "2024-06-24T11:24:29.617871Z"
    }
   },
   "source": [
    "X_plot.shape"
   ],
   "outputs": [
    {
     "data": {
      "text/plain": [
       "(10000, 3)"
      ]
     },
     "execution_count": 9,
     "metadata": {},
     "output_type": "execute_result"
    }
   ],
   "execution_count": 9
  },
  {
   "cell_type": "code",
   "metadata": {
    "colab": {
     "base_uri": "https://localhost:8080/"
    },
    "id": "dhENE4dleTM_",
    "outputId": "8682b1ab-2707-4877-df38-425423516f7c",
    "slideshow": {
     "slide_type": "-"
    },
    "ExecuteTime": {
     "end_time": "2024-06-24T11:24:30.322992Z",
     "start_time": "2024-06-24T11:24:30.316144Z"
    }
   },
   "source": [
    "reg.coef_"
   ],
   "outputs": [
    {
     "data": {
      "text/plain": [
       "array([2.40304643, 0.90236995, 3.92967158])"
      ]
     },
     "execution_count": 10,
     "metadata": {},
     "output_type": "execute_result"
    }
   ],
   "execution_count": 10
  },
  {
   "cell_type": "markdown",
   "metadata": {
    "id": "mgPVkZt692m5",
    "slideshow": {
     "slide_type": "subslide"
    }
   },
   "source": [
    "If regularization is needed, in sklearn there are Ridge (L_2) and Lasso (L_1) regressors, and much more: https://scikit-learn.org/stable/modules/classes.html#module-sklearn.linear_model)"
   ]
  },
  {
   "cell_type": "code",
   "metadata": {
    "id": "O3wmD5Yq72HC",
    "slideshow": {
     "slide_type": "-"
    },
    "ExecuteTime": {
     "end_time": "2024-06-24T11:24:34.325950Z",
     "start_time": "2024-06-24T11:24:34.317187Z"
    }
   },
   "source": [
    "from sklearn.linear_model import Ridge, Lasso"
   ],
   "outputs": [],
   "execution_count": 11
  },
  {
   "cell_type": "code",
   "metadata": {
    "id": "TuN7r44W8Pee",
    "slideshow": {
     "slide_type": "subslide"
    },
    "ExecuteTime": {
     "end_time": "2024-06-24T11:24:36.870418Z",
     "start_time": "2024-06-24T11:24:36.861605Z"
    }
   },
   "source": [
    "reg = Ridge(alpha=10.0, fit_intercept=False)"
   ],
   "outputs": [],
   "execution_count": 12
  },
  {
   "cell_type": "code",
   "metadata": {
    "colab": {
     "base_uri": "https://localhost:8080/",
     "height": 288
    },
    "id": "ydWk-zXX8UYD",
    "outputId": "b5f5b6ba-f74c-433c-bdef-527609ad8054",
    "slideshow": {
     "slide_type": "-"
    },
    "ExecuteTime": {
     "end_time": "2024-06-24T11:24:59.615805Z",
     "start_time": "2024-06-24T11:24:59.468811Z"
    }
   },
   "source": [
    "reg.fit(X, Y)\n",
    "plt.plot(x, Y, '.', label='train points')\n",
    "\n",
    "x_plot = np.linspace(0, 30, num=10000)\n",
    "plt.plot(x_plot, 4*np.sin(x_plot) + x_plot, label='real')\n",
    "\n",
    "X_plot = np.vstack([np.ones_like(x_plot), x_plot, np.sin(x_plot)]).T\n",
    "plt.plot(x_plot, reg.predict(X_plot), label='aproximation')\n",
    "\n",
    "plt.legend(loc='best')\n",
    "plt.show()"
   ],
   "outputs": [
    {
     "data": {
      "text/plain": [
       "<Figure size 640x480 with 1 Axes>"
      ],
      "image/png": "[encoded data removed]"
     },
     "metadata": {},
     "output_type": "display_data"
    }
   ],
   "execution_count": 13
  },
  {
   "cell_type": "code",
   "metadata": {
    "colab": {
     "base_uri": "https://localhost:8080/",
     "height": 55
    },
    "id": "nANQlj_BfQKB",
    "outputId": "fdb11a6b-9983-4b17-88a3-70c925c200a4",
    "slideshow": {
     "slide_type": "-"
    },
    "ExecuteTime": {
     "end_time": "2024-06-24T11:25:10.407741Z",
     "start_time": "2024-06-24T11:25:10.403402Z"
    }
   },
   "source": [
    "reg.coef_"
   ],
   "outputs": [
    {
     "data": {
      "text/plain": [
       "array([1.34716055, 0.95145871, 2.67776413])"
      ]
     },
     "execution_count": 14,
     "metadata": {},
     "output_type": "execute_result"
    }
   ],
   "execution_count": 14
  },
  {
   "cell_type": "markdown",
   "metadata": {
    "id": "XAft6fxI-OeZ",
    "slideshow": {
     "slide_type": "subslide"
    }
   },
   "source": [
    "### Task 2\n",
    "\n",
    "Verify that the analytical solution of Ridge regression coincides with the solution obtained by sklearn. "
   ]
  },
  {
   "cell_type": "markdown",
   "metadata": {
    "id": "whKyKbJ7QU9L",
    "slideshow": {
     "slide_type": "fragment"
    }
   },
   "source": [
    "#### Solution"
   ]
  },
  {
   "cell_type": "code",
   "metadata": {
    "id": "Gh5dBXNNSFtV",
    "slideshow": {
     "slide_type": "-"
    },
    "ExecuteTime": {
     "end_time": "2024-06-24T11:25:15.971778Z",
     "start_time": "2024-06-24T11:25:15.967072Z"
    }
   },
   "source": [
    "w = np.dot(np.dot(np.linalg.inv(np.dot(X.T, X) + np.eye(X.shape[1]) * 10), X.T), Y)"
   ],
   "outputs": [],
   "execution_count": 15
  },
  {
   "cell_type": "code",
   "metadata": {
    "colab": {
     "base_uri": "https://localhost:8080/",
     "height": 55
    },
    "id": "le5Ww8O-SHaI",
    "outputId": "93889a03-6ed1-4332-db73-8823d25a31ed",
    "slideshow": {
     "slide_type": "-"
    },
    "ExecuteTime": {
     "end_time": "2024-06-24T11:25:16.761583Z",
     "start_time": "2024-06-24T11:25:16.755837Z"
    }
   },
   "source": [
    "w"
   ],
   "outputs": [
    {
     "data": {
      "text/plain": [
       "array([1.34716055, 0.95145871, 2.67776413])"
      ]
     },
     "execution_count": 16,
     "metadata": {},
     "output_type": "execute_result"
    }
   ],
   "execution_count": 16
  },
  {
   "cell_type": "markdown",
   "metadata": {
    "id": "f0ZpheLL-lUz",
    "slideshow": {
     "slide_type": "subslide"
    }
   },
   "source": [
    "### Why do we need Lasso?"
   ]
  },
  {
   "cell_type": "code",
   "metadata": {
    "id": "6_tQRfQoAX3e",
    "slideshow": {
     "slide_type": "-"
    },
    "ExecuteTime": {
     "end_time": "2024-06-24T11:25:19.288039Z",
     "start_time": "2024-06-24T11:25:19.279352Z"
    }
   },
   "source": [
    "np.random.seed(0)\n",
    "l = 40\n",
    "\n",
    "x = np.linspace(0, 30, num=l)\n",
    "Y = x + 4*np.sin(x) + 0.1*np.random.randn(l)\n",
    "\n",
    "X = np.vstack([np.ones_like(x), x, np.sin(x)]).T"
   ],
   "outputs": [],
   "execution_count": 17
  },
  {
   "cell_type": "markdown",
   "metadata": {
    "id": "f0ZpheLL-lUz",
    "slideshow": {
     "slide_type": "subslide"
    }
   },
   "source": [
    "#### Let's add features!"
   ]
  },
  {
   "cell_type": "code",
   "metadata": {
    "colab": {
     "base_uri": "https://localhost:8080/",
     "height": 286
    },
    "id": "6J_mZABH8YVs",
    "outputId": "11badd8b-ce32-4ab8-9209-d1f9dbb43eac",
    "slideshow": {
     "slide_type": "-"
    },
    "ExecuteTime": {
     "end_time": "2024-06-24T11:25:22.764212Z",
     "start_time": "2024-06-24T11:25:22.563338Z"
    }
   },
   "source": [
    "reg = Ridge(alpha=10.0, fit_intercept=False)\n",
    "X = np.vstack([np.ones_like(x), x, np.sin(x), np.cos(x), np.tanh(x)]).T\n",
    "reg.fit(X, Y)\n",
    "plt.plot(x, Y, '.', label='train points')\n",
    "\n",
    "x_plot = np.linspace(0, 30, num=10000)\n",
    "plt.plot(x_plot, 4*np.sin(x_plot) + x_plot, label='real')\n",
    "\n",
    "X_plot = np.vstack([np.ones_like(x_plot), x_plot, np.sin(x_plot), np.cos(x_plot), np.tanh(x_plot)]).T\n",
    "plt.plot(x_plot, reg.predict(X_plot), label='aproximation')\n",
    "\n",
    "plt.legend(loc='best')\n",
    "plt.show()"
   ],
   "outputs": [
    {
     "data": {
      "text/plain": [
       "<Figure size 640x480 with 1 Axes>"
      ],
      "image/png": "[encoded data removed]"
     },
     "metadata": {},
     "output_type": "display_data"
    }
   ],
   "execution_count": 18
  },
  {
   "cell_type": "code",
   "metadata": {
    "colab": {
     "base_uri": "https://localhost:8080/",
     "height": 55
    },
    "id": "VG5Flipz_VZS",
    "outputId": "1e46d6f4-9474-479c-cf66-8314dd766256",
    "slideshow": {
     "slide_type": "fragment"
    },
    "ExecuteTime": {
     "end_time": "2024-06-24T11:25:24.166656Z",
     "start_time": "2024-06-24T11:25:24.160836Z"
    }
   },
   "source": [
    "reg.coef_"
   ],
   "outputs": [
    {
     "data": {
      "text/plain": [
       "array([ 0.13384168,  0.9865229 ,  2.65916602, -0.00828249,  0.08764917])"
      ]
     },
     "execution_count": 19,
     "metadata": {},
     "output_type": "execute_result"
    }
   ],
   "execution_count": 19
  },
  {
   "cell_type": "code",
   "metadata": {
    "colab": {
     "base_uri": "https://localhost:8080/",
     "height": 286
    },
    "id": "G9JacvHk_YN7",
    "outputId": "112511a4-c3de-4763-e90b-4aa7d59e9548",
    "slideshow": {
     "slide_type": "subslide"
    },
    "ExecuteTime": {
     "end_time": "2024-06-24T11:25:24.976662Z",
     "start_time": "2024-06-24T11:25:24.746061Z"
    }
   },
   "source": [
    "reg = Lasso(alpha=1.0, fit_intercept=False)\n",
    "X = np.vstack([np.ones_like(x), x, np.sin(x), np.cos(x), np.tanh(x)]).T\n",
    "reg.fit(X, Y)\n",
    "plt.plot(x, Y, '.', label='train points')\n",
    "\n",
    "x_plot = np.linspace(0, 30, num=10000)\n",
    "plt.plot(x_plot, 4*np.sin(x_plot) + x_plot, label='real')\n",
    "\n",
    "X_plot = np.vstack([np.ones_like(x_plot), x_plot, np.sin(x_plot), np.cos(x_plot), np.tanh(x_plot)]).T\n",
    "plt.plot(x_plot, reg.predict(X_plot), label='aproximation')\n",
    "\n",
    "plt.legend(loc='best')\n",
    "plt.show()"
   ],
   "outputs": [
    {
     "data": {
      "text/plain": [
       "<Figure size 640x480 with 1 Axes>"
      ],
      "image/png": "[encoded data removed]"
     },
     "metadata": {},
     "output_type": "display_data"
    }
   ],
   "execution_count": 20
  },
  {
   "cell_type": "code",
   "metadata": {
    "colab": {
     "base_uri": "https://localhost:8080/",
     "height": 55
    },
    "id": "7IgS09Ts_tQw",
    "outputId": "0471257f-3d60-44ad-fc24-d5c78fdcbe90",
    "slideshow": {
     "slide_type": "fragment"
    },
    "ExecuteTime": {
     "end_time": "2024-06-24T11:25:27.227012Z",
     "start_time": "2024-06-24T11:25:27.217917Z"
    }
   },
   "source": [
    "reg.coef_"
   ],
   "outputs": [
    {
     "data": {
      "text/plain": [
       "array([0.        , 0.99381765, 2.00331928, 0.        , 0.        ])"
      ]
     },
     "execution_count": 21,
     "metadata": {},
     "output_type": "execute_result"
    }
   ],
   "execution_count": 21
  },
  {
   "cell_type": "markdown",
   "metadata": {
    "id": "_-ufaE5DBT6m",
    "slideshow": {
     "slide_type": "subslide"
    }
   },
   "source": [
    "Lasso regression allows to eliminate \"unnecessary\" features:\n",
    "\n",
    "![lasso_and_ridge](./images/lasso_and_ridge.png)"
   ]
  },
  {
   "cell_type": "markdown",
   "metadata": {
    "id": "zad5XCf7BjIK",
    "slideshow": {
     "slide_type": "subslide"
    }
   },
   "source": [
    "Unfortunately, solving the Lasso regression analytically is not possible.\n",
    "So, we solve it with gradient descent (more precisely, subgradient, as it's not differentiable in places)."
   ]
  },
  {
   "cell_type": "markdown",
   "metadata": {
    "id": "AcPtr9KuiCfJ",
    "slideshow": {
     "slide_type": "-"
    }
   },
   "source": [
    "$$(Xw - y)^T(Xw - y) + \\gamma||w||_1$$ "
   ]
  },
  {
   "cell_type": "markdown",
   "metadata": {
    "id": "ET0-kawyCZwa",
    "slideshow": {
     "slide_type": "slide"
    }
   },
   "source": [
    "## Gradient Descent"
   ]
  },
  {
   "cell_type": "markdown",
   "metadata": {
    "id": "WqKDY5QaCdIH",
    "slideshow": {
     "slide_type": "-"
    }
   },
   "source": [
    "### Task 3\n",
    "\n",
    "Show that for any $\\alpha$ there exists such a convex function $f(x)$ that the gradient descent, \n",
    "in which each time a step is taken on $\\alpha \\frac {\\partial f} {\\partial x}$, will diverge."
   ]
  },
  {
   "cell_type": "markdown",
   "metadata": {
    "slideshow": {
     "slide_type": "fragment"
    }
   },
   "source": [
    "<details>\n",
    "<summary>Solution</summary>\n",
    "\n",
    "In the parabola $x^2$ you can jump from branch to branch (if you stand at the point $0.5$).\n",
    "</details>"
   ]
  },
  {
   "cell_type": "markdown",
   "metadata": {
    "id": "9CEi49XoE12F",
    "slideshow": {
     "slide_type": "fragment"
    }
   },
   "source": [
    "### How to cope with this problem?\n",
    "\n",
    "Take step on $\\alpha_k$, where each subsequent step is smaller than the previous one. "
   ]
  },
  {
   "cell_type": "markdown",
   "metadata": {
    "id": "ODctiQ47PNrx",
    "slideshow": {
     "slide_type": "subslide"
    }
   },
   "source": [
    "### Task 4\n",
    "\n",
    "Let $\\alpha_k = \\frac{1}{k^2}$. Show that such a method may not converge to the optimum."
   ]
  },
  {
   "cell_type": "markdown",
   "metadata": {
    "slideshow": {
     "slide_type": "fragment"
    }
   },
   "source": [
    "**Solution**\n",
    "\n",
    "$\\sum \\frac{1}{k^2}$ — converges. So if we start far from zero, we just won't reach zero \"physically\"."
   ]
  },
  {
   "cell_type": "markdown",
   "metadata": {
    "id": "HkD6yg1kParh",
    "slideshow": {
     "slide_type": "subslide"
    }
   },
   "source": [
    "Commonly used options:\n",
    "\n",
    "$\\alpha_k = \\frac{1}{k}$,\n",
    "\n",
    "$\\alpha_k = \\frac{1}{{\\sqrt{k}}}$,\n",
    "\n",
    "$\\alpha_k = \\gamma^{\\lfloor \\frac {k}{step}\\rfloor}$ "
   ]
  },
  {
   "cell_type": "markdown",
   "metadata": {
    "id": "zyfWkxHiQcBQ",
    "slideshow": {
     "slide_type": "subslide"
    }
   },
   "source": [
    "### Task 5\n",
    "\n",
    "Suppose $\\alpha_k = \\frac{1}{k}$. Could such a method not converge to the optimum?"
   ]
  },
  {
   "cell_type": "markdown",
   "metadata": {
    "slideshow": {
     "slide_type": "fragment"
    }
   },
   "source": [
    "**Solution** \n",
    "\n",
    "No. The only exception is that it can converge to a local minimum in the case of a non-convex function."
   ]
  },
  {
   "cell_type": "markdown",
   "metadata": {
    "id": "7lUd3CXXD_vn",
    "slideshow": {
     "slide_type": "fragment"
    }
   },
   "source": [
    "Another one of the ways to choose the steps that will definitely converge:\n",
    "Khachian method (ellipsoids): https://en.wikipedia.org/wiki/Ellipsoid_method \n",
    "\n",
    "Choose an ellipse that initially contains the solution and move from its center along the gradient to the center of the new ellipse — then the search area is guaranteed to decrease by a constant factor."
   ]
  },
  {
   "cell_type": "code",
   "execution_count": null,
   "outputs": [],
   "source": [],
   "metadata": {
    "collapsed": false
   }
  }
 ],
 "metadata": {
  "celltoolbar": "Slideshow",
  "kernelspec": {
   "display_name": "Python 3 (ipykernel)",
   "language": "python",
   "name": "python3"
  },
  "language_info": {
   "codemirror_mode": {
    "name": "ipython",
    "version": 3
   },
   "file_extension": ".py",
   "mimetype": "text/x-python",
   "name": "python",
   "nbconvert_exporter": "python",
   "pygments_lexer": "ipython3",
   "version": "3.9.7"
  },
  "rise": {
   "transition": "none"
  }
 },
 "nbformat": 4,
 "nbformat_minor": 2
}
