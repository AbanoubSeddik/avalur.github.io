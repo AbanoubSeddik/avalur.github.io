{
 "cells": [
  {
   "cell_type": "markdown",
   "metadata": {
    "slideshow": {
     "slide_type": "slide"
    }
   },
   "source": [
    "<center><img src=\"./images/nup_logo_dark.jpeg\" width=300 style=\"display: inline-block;\"></center> \n",
    "\n",
    "## ML with Python\n",
    "### Ensembles, gradient boosting and random forest\n",
    "\n",
    "<br />\n",
    "November 8, 2023"
   ]
  },
  {
   "cell_type": "markdown",
   "metadata": {
    "slideshow": {
     "slide_type": "slide"
    }
   },
   "source": [
    "### Import libraries and create dataset"
   ]
  },
  {
   "cell_type": "code",
   "execution_count": 1,
   "outputs": [],
   "source": [
    "import numpy as np\n",
    "import pandas as pd\n",
    "from sklearn.datasets import make_classification\n",
    "\n",
    "X, y = make_classification(n_samples=1000, n_features=20, n_informative=15, \n",
    "                           n_redundant=5, random_state=42)"
   ],
   "metadata": {
    "collapsed": false,
    "ExecuteTime": {
     "end_time": "2023-09-12T10:10:37.381541200Z",
     "start_time": "2023-09-12T10:10:32.008432300Z"
    }
   }
  },
  {
   "cell_type": "code",
   "execution_count": 2,
   "metadata": {
    "id": "0w4gv7cXsZOU",
    "slideshow": {
     "slide_type": "subslide"
    },
    "ExecuteTime": {
     "end_time": "2023-09-12T10:10:37.416566Z",
     "start_time": "2023-09-12T10:10:37.371003300Z"
    }
   },
   "outputs": [
    {
     "data": {
      "text/plain": "(1000, 20)"
     },
     "execution_count": 2,
     "metadata": {},
     "output_type": "execute_result"
    }
   ],
   "source": [
    "X.shape"
   ]
  },
  {
   "cell_type": "code",
   "execution_count": 3,
   "metadata": {
    "id": "qM4YZ4yulWuF",
    "slideshow": {
     "slide_type": "-"
    },
    "ExecuteTime": {
     "end_time": "2023-09-12T10:10:50.427974Z",
     "start_time": "2023-09-12T10:10:50.302359400Z"
    }
   },
   "outputs": [
    {
     "data": {
      "text/plain": "0    502\n1    498\nName: count, dtype: int64"
     },
     "execution_count": 3,
     "metadata": {},
     "output_type": "execute_result"
    }
   ],
   "source": [
    "pd.Series.value_counts(y)"
   ]
  },
  {
   "cell_type": "code",
   "execution_count": 4,
   "metadata": {
    "colab": {
     "base_uri": "https://localhost:8080/",
     "height": 731
    },
    "id": "Nc9JUIatdRFz",
    "outputId": "3aea1b45-4a51-416a-fa8b-39b1a8084fb9",
    "slideshow": {
     "slide_type": "subslide"
    },
    "ExecuteTime": {
     "end_time": "2023-09-12T10:11:07.388565700Z",
     "start_time": "2023-09-12T10:11:07.049244Z"
    }
   },
   "outputs": [],
   "source": [
    "from sklearn.model_selection import cross_val_score, RepeatedStratifiedKFold\n",
    "\n",
    "def eval_classifier(clf):\n",
    "    cv = RepeatedStratifiedKFold(n_splits=10, n_repeats=3, random_state=43)\n",
    "    n_scores = cross_val_score(clf, X, y, scoring='accuracy', cv=cv, n_jobs=-1, error_score='raise')\n",
    "    return np.mean(n_scores), np.std(n_scores)"
   ]
  },
  {
   "cell_type": "code",
   "execution_count": 5,
   "metadata": {
    "slideshow": {
     "slide_type": "-"
    },
    "ExecuteTime": {
     "end_time": "2023-09-12T10:11:40.951432700Z",
     "start_time": "2023-09-12T10:11:40.401985300Z"
    }
   },
   "outputs": [],
   "source": [
    "from sklearn.tree import DecisionTreeClassifier\n",
    "from sklearn.linear_model import LogisticRegression\n",
    "from sklearn.svm import SVC\n",
    "\n",
    "results_accuracy = pd.DataFrame(0.0,\n",
    "                                columns=['No composition', 'Dummy', 'Bagging', 'Bagging_mf', 'AdaBoost'],\n",
    "                                index=['DTC', 'DTC-1', 'LR', 'SVC'])"
   ]
  },
  {
   "cell_type": "code",
   "execution_count": 6,
   "metadata": {
    "id": "Lm_M4bux7I3H",
    "slideshow": {
     "slide_type": "-"
    },
    "ExecuteTime": {
     "end_time": "2023-09-12T10:12:02.563918100Z",
     "start_time": "2023-09-12T10:11:59.254327200Z"
    }
   },
   "outputs": [
    {
     "name": "stdout",
     "output_type": "stream",
     "text": [
      "0.79, 0.04\n"
     ]
    }
   ],
   "source": [
    "acc_mean, acc_std = eval_classifier(DecisionTreeClassifier())\n",
    "\n",
    "results_accuracy.loc['DTC', 'No composition'] = acc_mean\n",
    "print(f\"{acc_mean:.2f}, {acc_std:.2f}\")"
   ]
  },
  {
   "cell_type": "code",
   "execution_count": 7,
   "metadata": {
    "colab": {
     "base_uri": "https://localhost:8080/",
     "height": 55
    },
    "id": "ItwolM_L7i1l",
    "outputId": "5993b70b-7c06-4877-95a6-230625650927",
    "slideshow": {
     "slide_type": "-"
    },
    "ExecuteTime": {
     "end_time": "2023-09-12T10:12:14.715269100Z",
     "start_time": "2023-09-12T10:12:14.532127400Z"
    }
   },
   "outputs": [
    {
     "name": "stdout",
     "output_type": "stream",
     "text": [
      "0.68, 0.04\n"
     ]
    }
   ],
   "source": [
    "acc_mean, acc_std = eval_classifier(DecisionTreeClassifier(max_depth=1))\n",
    "\n",
    "results_accuracy.loc['DTC-1', 'No composition'] = acc_mean\n",
    "print(f\"{acc_mean:.2f}, {acc_std:.2f}\")"
   ]
  },
  {
   "cell_type": "code",
   "execution_count": 8,
   "metadata": {
    "colab": {
     "base_uri": "https://localhost:8080/",
     "height": 288
    },
    "id": "ypB0kIOG7qRz",
    "outputId": "acbfba46-5e69-4029-c895-37162cb2e9e1",
    "slideshow": {
     "slide_type": "-"
    },
    "ExecuteTime": {
     "end_time": "2023-09-12T10:12:28.603349500Z",
     "start_time": "2023-09-12T10:12:28.484943100Z"
    }
   },
   "outputs": [
    {
     "name": "stdout",
     "output_type": "stream",
     "text": [
      "0.81, 0.03\n"
     ]
    }
   ],
   "source": [
    "acc_mean, acc_std = eval_classifier(LogisticRegression())\n",
    "\n",
    "results_accuracy.loc['LR', 'No composition'] = acc_mean\n",
    "print(f\"{acc_mean:.2f}, {acc_std:.2f}\")"
   ]
  },
  {
   "cell_type": "code",
   "execution_count": 9,
   "metadata": {
    "colab": {
     "base_uri": "https://localhost:8080/",
     "height": 159
    },
    "id": "MEc_1KeCzxKi",
    "outputId": "c28acd67-cb98-450b-809d-2fc28a288726",
    "slideshow": {
     "slide_type": "subslide"
    },
    "ExecuteTime": {
     "end_time": "2023-09-12T10:12:44.545294200Z",
     "start_time": "2023-09-12T10:12:43.138386200Z"
    }
   },
   "outputs": [
    {
     "name": "stdout",
     "output_type": "stream",
     "text": [
      "0.94, 0.02\n"
     ]
    }
   ],
   "source": [
    "acc_mean, acc_std = eval_classifier(SVC(probability=True))\n",
    "\n",
    "results_accuracy.loc['SVC', 'No composition'] = acc_mean\n",
    "print(f\"{acc_mean:.2f}, {acc_std:.2f}\")"
   ]
  },
  {
   "cell_type": "markdown",
   "source": [
    "### Dummy"
   ],
   "metadata": {
    "collapsed": false
   }
  },
  {
   "cell_type": "markdown",
   "source": [
    "First, let's implement our simplest assembling method.\n",
    "\n",
    "The idea is very simple: we will just train the classifier several times and average the answer:\n",
    "$$c(x) = \\frac{1}{n}\\sum_{i=1}^n c_i(x)$$"
   ],
   "metadata": {
    "collapsed": false
   }
  },
  {
   "cell_type": "code",
   "execution_count": 10,
   "metadata": {
    "id": "O3wmD5Yq72HC",
    "slideshow": {
     "slide_type": "-"
    },
    "ExecuteTime": {
     "end_time": "2023-09-12T10:14:05.118784Z",
     "start_time": "2023-09-12T10:14:05.018501Z"
    }
   },
   "outputs": [],
   "source": [
    "from sklearn import base\n",
    "\n",
    "class DummyEnsemble(object):\n",
    "    def __init__(self, base_estimator, n_estimators=10):\n",
    "        self.n_estimators = n_estimators\n",
    "        self.base_estimator = base_estimator            \n",
    "        self._bs = [base.clone(self.base_estimator) for _ in range(self.n_estimators)]\n",
    "        \n",
    "    def get_params(self, deep=True):\n",
    "        return {'n_estimators': self.n_estimators, \n",
    "                'base_estimator': self.base_estimator}\n",
    "        \n",
    "    def fit(self, X, Y):\n",
    "        for b in self._bs:\n",
    "            b.fit(X, Y)\n",
    "            \n",
    "    def predict(self, X):\n",
    "        probas = self.predict_proba(X)\n",
    "        return np.argmax(probas, axis=1)\n",
    "    \n",
    "    def predict_proba(self, X):\n",
    "        return np.mean([b.predict_proba(X) for b in self._bs], axis=0)"
   ]
  },
  {
   "cell_type": "code",
   "execution_count": 11,
   "metadata": {
    "colab": {
     "base_uri": "https://localhost:8080/",
     "height": 288
    },
    "id": "ydWk-zXX8UYD",
    "outputId": "b5f5b6ba-f74c-433c-bdef-527609ad8054",
    "slideshow": {
     "slide_type": "-"
    },
    "ExecuteTime": {
     "end_time": "2023-09-12T10:14:43.618238200Z",
     "start_time": "2023-09-12T10:14:39.576010300Z"
    }
   },
   "outputs": [
    {
     "name": "stdout",
     "output_type": "stream",
     "text": [
      "0.79, 0.05\n"
     ]
    }
   ],
   "source": [
    "acc_mean, acc_std = eval_classifier(DummyEnsemble(DecisionTreeClassifier(), n_estimators=10))\n",
    "\n",
    "results_accuracy.loc['DTC', 'Dummy'] = acc_mean\n",
    "print(f\"{acc_mean:.2f}, {acc_std:.2f}\")"
   ]
  },
  {
   "cell_type": "code",
   "execution_count": 12,
   "metadata": {
    "colab": {
     "base_uri": "https://localhost:8080/",
     "height": 55
    },
    "id": "nANQlj_BfQKB",
    "outputId": "fdb11a6b-9983-4b17-88a3-70c925c200a4",
    "slideshow": {
     "slide_type": "-"
    },
    "ExecuteTime": {
     "end_time": "2023-09-12T10:14:50.728278700Z",
     "start_time": "2023-09-12T10:14:50.253235300Z"
    }
   },
   "outputs": [
    {
     "name": "stdout",
     "output_type": "stream",
     "text": [
      "0.68, 0.04\n"
     ]
    }
   ],
   "source": [
    "acc_mean, acc_std = eval_classifier(DummyEnsemble(DecisionTreeClassifier(max_depth=1)))\n",
    "\n",
    "results_accuracy.loc['DTC-1', 'Dummy'] = acc_mean\n",
    "print(f\"{acc_mean:.2f}, {acc_std:.2f}\")"
   ]
  },
  {
   "cell_type": "code",
   "execution_count": 13,
   "outputs": [
    {
     "name": "stdout",
     "output_type": "stream",
     "text": [
      "0.81, 0.03\n"
     ]
    }
   ],
   "source": [
    "acc_mean, acc_std = eval_classifier(DummyEnsemble(LogisticRegression()))\n",
    "\n",
    "results_accuracy.loc['LR', 'Dummy'] = acc_mean\n",
    "print(f\"{acc_mean:.2f}, {acc_std:.2f}\")"
   ],
   "metadata": {
    "collapsed": false,
    "ExecuteTime": {
     "end_time": "2023-09-12T10:14:59.292552300Z",
     "start_time": "2023-09-12T10:14:58.796724600Z"
    }
   }
  },
  {
   "cell_type": "code",
   "execution_count": 14,
   "metadata": {
    "id": "6_tQRfQoAX3e",
    "slideshow": {
     "slide_type": "-"
    },
    "ExecuteTime": {
     "end_time": "2023-09-12T10:15:18.843785200Z",
     "start_time": "2023-09-12T10:15:06.296747100Z"
    }
   },
   "outputs": [
    {
     "name": "stdout",
     "output_type": "stream",
     "text": [
      "0.94, 0.02\n"
     ]
    }
   ],
   "source": [
    "acc_mean, acc_std = eval_classifier(DummyEnsemble(SVC(probability=True)))\n",
    "\n",
    "results_accuracy.loc['SVC', 'Dummy'] = acc_mean\n",
    "print(f\"{acc_mean:.2f}, {acc_std:.2f}\")"
   ]
  },
  {
   "cell_type": "markdown",
   "source": [
    "**Question 1:** What problems does this method have?"
   ],
   "metadata": {
    "collapsed": false
   }
  },
  {
   "cell_type": "code",
   "execution_count": 15,
   "metadata": {
    "colab": {
     "base_uri": "https://localhost:8080/",
     "height": 55
    },
    "id": "VG5Flipz_VZS",
    "outputId": "1e46d6f4-9474-479c-cf66-8314dd766256",
    "slideshow": {
     "slide_type": "fragment"
    },
    "ExecuteTime": {
     "end_time": "2023-09-12T10:16:00.544219Z",
     "start_time": "2023-09-12T10:16:00.427016900Z"
    }
   },
   "outputs": [
    {
     "data": {
      "text/plain": "       No composition  Dummy  Bagging  Bagging_mf  AdaBoost\nDTC              0.79   0.79     0.00        0.00      0.00\nDTC-1            0.68   0.68     0.00        0.00      0.00\nLR               0.81   0.81     0.00        0.00      0.00\nSVC              0.94   0.94     0.00        0.00      0.00",
      "text/html": "<div>\n<style scoped>\n    .dataframe tbody tr th:only-of-type {\n        vertical-align: middle;\n    }\n\n    .dataframe tbody tr th {\n        vertical-align: top;\n    }\n\n    .dataframe thead th {\n        text-align: right;\n    }\n</style>\n<table border=\"1\" class=\"dataframe\">\n  <thead>\n    <tr style=\"text-align: right;\">\n      <th></th>\n      <th>No composition</th>\n      <th>Dummy</th>\n      <th>Bagging</th>\n      <th>Bagging_mf</th>\n      <th>AdaBoost</th>\n    </tr>\n  </thead>\n  <tbody>\n    <tr>\n      <th>DTC</th>\n      <td>0.79</td>\n      <td>0.79</td>\n      <td>0.00</td>\n      <td>0.00</td>\n      <td>0.00</td>\n    </tr>\n    <tr>\n      <th>DTC-1</th>\n      <td>0.68</td>\n      <td>0.68</td>\n      <td>0.00</td>\n      <td>0.00</td>\n      <td>0.00</td>\n    </tr>\n    <tr>\n      <th>LR</th>\n      <td>0.81</td>\n      <td>0.81</td>\n      <td>0.00</td>\n      <td>0.00</td>\n      <td>0.00</td>\n    </tr>\n    <tr>\n      <th>SVC</th>\n      <td>0.94</td>\n      <td>0.94</td>\n      <td>0.00</td>\n      <td>0.00</td>\n      <td>0.00</td>\n    </tr>\n  </tbody>\n</table>\n</div>"
     },
     "execution_count": 15,
     "metadata": {},
     "output_type": "execute_result"
    }
   ],
   "source": [
    "pd.options.display.float_format = \"{:,.2f}\".format\n",
    "results_accuracy"
   ]
  },
  {
   "cell_type": "markdown",
   "source": [
    "### Bagging"
   ],
   "metadata": {
    "collapsed": false
   }
  },
  {
   "cell_type": "markdown",
   "source": [
    "A natural modification of the method from the previous point is Bagging. \n",
    "In it, we use only part of the data/features to train each subsequent model."
   ],
   "metadata": {
    "collapsed": false
   }
  },
  {
   "cell_type": "code",
   "execution_count": 16,
   "outputs": [
    {
     "name": "stdout",
     "output_type": "stream",
     "text": [
      "0.87, 0.04\n"
     ]
    }
   ],
   "source": [
    "from sklearn.ensemble import BaggingClassifier\n",
    "\n",
    "acc_mean, acc_std = eval_classifier(\n",
    "    BaggingClassifier(DecisionTreeClassifier(), n_estimators=10, \n",
    "                      max_samples=1.0, max_features=1.0, \n",
    "                      bootstrap=True, bootstrap_features=False))\n",
    "\n",
    "results_accuracy.loc['DTC', 'Bagging'] = acc_mean\n",
    "print(f\"{acc_mean:.2f}, {acc_std:.2f}\")"
   ],
   "metadata": {
    "collapsed": false,
    "ExecuteTime": {
     "end_time": "2023-09-12T10:17:19.698491500Z",
     "start_time": "2023-09-12T10:17:16.611858500Z"
    }
   }
  },
  {
   "cell_type": "code",
   "execution_count": 17,
   "outputs": [
    {
     "name": "stdout",
     "output_type": "stream",
     "text": [
      "0.87, 0.04\n"
     ]
    }
   ],
   "source": [
    "acc_mean, acc_std = eval_classifier(\n",
    "    BaggingClassifier(DecisionTreeClassifier(), n_estimators=10, \n",
    "                      max_samples=1.0, max_features=0.8, \n",
    "                      bootstrap=True, bootstrap_features=False))\n",
    "\n",
    "results_accuracy.loc['DTC', 'Bagging_mf'] = acc_mean\n",
    "print(f\"{acc_mean:.2f}, {acc_std:.2f}\")"
   ],
   "metadata": {
    "collapsed": false,
    "ExecuteTime": {
     "end_time": "2023-09-12T10:17:37.081078300Z",
     "start_time": "2023-09-12T10:17:34.959102300Z"
    }
   }
  },
  {
   "cell_type": "code",
   "execution_count": 18,
   "outputs": [
    {
     "name": "stdout",
     "output_type": "stream",
     "text": [
      "0.69, 0.04\n"
     ]
    }
   ],
   "source": [
    "acc_mean, acc_std = eval_classifier(\n",
    "    BaggingClassifier(DecisionTreeClassifier(max_depth=1), n_estimators=10, \n",
    "                      max_samples=1.0, max_features=1.0, \n",
    "                      bootstrap=True, bootstrap_features=False))\n",
    "\n",
    "results_accuracy.loc['DTC-1', 'Bagging'] = acc_mean\n",
    "print(f\"{acc_mean:.2f}, {acc_std:.2f}\")"
   ],
   "metadata": {
    "collapsed": false,
    "ExecuteTime": {
     "end_time": "2023-09-12T10:18:02.724380400Z",
     "start_time": "2023-09-12T10:18:02.291634400Z"
    }
   }
  },
  {
   "cell_type": "code",
   "execution_count": 19,
   "outputs": [
    {
     "name": "stdout",
     "output_type": "stream",
     "text": [
      "0.69, 0.04\n"
     ]
    }
   ],
   "source": [
    "acc_mean, acc_std = eval_classifier(\n",
    "    BaggingClassifier(DecisionTreeClassifier(max_depth=1), n_estimators=10, \n",
    "                      max_samples=1.0, max_features=0.8, \n",
    "                      bootstrap=True, bootstrap_features=False))\n",
    "\n",
    "results_accuracy.loc['DTC-1', 'Bagging_mf'] = acc_mean\n",
    "print(f\"{acc_mean:.2f}, {acc_std:.2f}\")"
   ],
   "metadata": {
    "collapsed": false,
    "ExecuteTime": {
     "end_time": "2023-09-12T10:18:16.541242900Z",
     "start_time": "2023-09-12T10:18:16.181505300Z"
    }
   }
  },
  {
   "cell_type": "code",
   "execution_count": 20,
   "outputs": [
    {
     "name": "stdout",
     "output_type": "stream",
     "text": [
      "0.81, 0.03\n"
     ]
    }
   ],
   "source": [
    "acc_mean, acc_std = eval_classifier(\n",
    "    BaggingClassifier(LogisticRegression(), n_estimators=10, \n",
    "                      max_samples=1.0, max_features=1.0, \n",
    "                      bootstrap=True, bootstrap_features=False))\n",
    "\n",
    "results_accuracy.loc['LR', 'Bagging'] = acc_mean\n",
    "print(f\"{acc_mean:.2f}, {acc_std:.2f}\")"
   ],
   "metadata": {
    "collapsed": false,
    "ExecuteTime": {
     "end_time": "2023-09-12T10:18:28.592537800Z",
     "start_time": "2023-09-12T10:18:27.538510400Z"
    }
   }
  },
  {
   "cell_type": "code",
   "execution_count": 21,
   "outputs": [
    {
     "name": "stdout",
     "output_type": "stream",
     "text": [
      "0.81, 0.03\n"
     ]
    }
   ],
   "source": [
    "acc_mean, acc_std = eval_classifier(\n",
    "    BaggingClassifier(LogisticRegression(), n_estimators=10, \n",
    "                      max_samples=1.0, max_features=0.8, \n",
    "                      bootstrap=True, bootstrap_features=False))\n",
    "\n",
    "results_accuracy.loc['LR', 'Bagging_mf'] = acc_mean\n",
    "print(f\"{acc_mean:.2f}, {acc_std:.2f}\")"
   ],
   "metadata": {
    "collapsed": false,
    "ExecuteTime": {
     "end_time": "2023-09-12T10:18:39.297358Z",
     "start_time": "2023-09-12T10:18:37.891295700Z"
    }
   }
  },
  {
   "cell_type": "code",
   "execution_count": 22,
   "outputs": [
    {
     "name": "stdout",
     "output_type": "stream",
     "text": [
      "0.940, 0.022\n"
     ]
    }
   ],
   "source": [
    "acc_mean, acc_std = eval_classifier(BaggingClassifier(SVC(probability=True)))\n",
    "\n",
    "results_accuracy.loc['SVC', 'Bagging'] = acc_mean\n",
    "print(f\"{acc_mean:.3f}, {acc_std:.3f}\")"
   ],
   "metadata": {
    "collapsed": false,
    "ExecuteTime": {
     "end_time": "2023-09-12T10:18:52.885445600Z",
     "start_time": "2023-09-12T10:18:47.997904800Z"
    }
   }
  },
  {
   "cell_type": "code",
   "execution_count": 23,
   "outputs": [
    {
     "name": "stdout",
     "output_type": "stream",
     "text": [
      "0.938, 0.024\n"
     ]
    }
   ],
   "source": [
    "acc_mean, acc_std = eval_classifier(\n",
    "    BaggingClassifier(SVC(probability=True), n_estimators=10, \n",
    "                      max_samples=1.0, max_features=0.8, \n",
    "                      bootstrap=True, bootstrap_features=False))\n",
    "\n",
    "results_accuracy.loc['SVC', 'Bagging_mf'] = acc_mean\n",
    "print(f\"{acc_mean:.3f}, {acc_std:.3f}\")"
   ],
   "metadata": {
    "collapsed": false,
    "ExecuteTime": {
     "end_time": "2023-09-12T10:19:06.456191100Z",
     "start_time": "2023-09-12T10:19:01.189217Z"
    }
   }
  },
  {
   "cell_type": "markdown",
   "source": [
    "**Question 2:** What are the pros/cons of Bagging compared to the Dummy method?"
   ],
   "metadata": {
    "collapsed": false
   }
  },
  {
   "cell_type": "code",
   "execution_count": 24,
   "outputs": [
    {
     "data": {
      "text/plain": "       No composition  Dummy  Bagging  Bagging_mf  AdaBoost\nDTC              0.79   0.79     0.87        0.87      0.00\nDTC-1            0.68   0.68     0.69        0.69      0.00\nLR               0.81   0.81     0.81        0.81      0.00\nSVC              0.94   0.94     0.94        0.94      0.00",
      "text/html": "<div>\n<style scoped>\n    .dataframe tbody tr th:only-of-type {\n        vertical-align: middle;\n    }\n\n    .dataframe tbody tr th {\n        vertical-align: top;\n    }\n\n    .dataframe thead th {\n        text-align: right;\n    }\n</style>\n<table border=\"1\" class=\"dataframe\">\n  <thead>\n    <tr style=\"text-align: right;\">\n      <th></th>\n      <th>No composition</th>\n      <th>Dummy</th>\n      <th>Bagging</th>\n      <th>Bagging_mf</th>\n      <th>AdaBoost</th>\n    </tr>\n  </thead>\n  <tbody>\n    <tr>\n      <th>DTC</th>\n      <td>0.79</td>\n      <td>0.79</td>\n      <td>0.87</td>\n      <td>0.87</td>\n      <td>0.00</td>\n    </tr>\n    <tr>\n      <th>DTC-1</th>\n      <td>0.68</td>\n      <td>0.68</td>\n      <td>0.69</td>\n      <td>0.69</td>\n      <td>0.00</td>\n    </tr>\n    <tr>\n      <th>LR</th>\n      <td>0.81</td>\n      <td>0.81</td>\n      <td>0.81</td>\n      <td>0.81</td>\n      <td>0.00</td>\n    </tr>\n    <tr>\n      <th>SVC</th>\n      <td>0.94</td>\n      <td>0.94</td>\n      <td>0.94</td>\n      <td>0.94</td>\n      <td>0.00</td>\n    </tr>\n  </tbody>\n</table>\n</div>"
     },
     "execution_count": 24,
     "metadata": {},
     "output_type": "execute_result"
    }
   ],
   "source": [
    "results_accuracy"
   ],
   "metadata": {
    "collapsed": false,
    "ExecuteTime": {
     "end_time": "2023-09-12T10:19:41.158360100Z",
     "start_time": "2023-09-12T10:19:41.106811600Z"
    }
   }
  },
  {
   "cell_type": "markdown",
   "source": [
    "### AdaBoost"
   ],
   "metadata": {
    "collapsed": false
   }
  },
  {
   "cell_type": "markdown",
   "source": [
    "AdaBoost trains each subsequent classifier on objects where the previous ones make mistakes \n",
    "(objects with errors get a higher weight, without errors — lower)."
   ],
   "metadata": {
    "collapsed": false
   }
  },
  {
   "cell_type": "code",
   "execution_count": 25,
   "outputs": [
    {
     "name": "stdout",
     "output_type": "stream",
     "text": [
      "0.79, 0.05\n"
     ]
    }
   ],
   "source": [
    "from sklearn.ensemble import AdaBoostClassifier\n",
    "\n",
    "acc_mean, acc_std = eval_classifier(\n",
    "    AdaBoostClassifier(DecisionTreeClassifier(), n_estimators=50, learning_rate=1.0))\n",
    "\n",
    "results_accuracy.loc['DTC', 'AdaBoost'] = acc_mean\n",
    "print(f\"{acc_mean:.2f}, {acc_std:.2f}\")"
   ],
   "metadata": {
    "collapsed": false,
    "ExecuteTime": {
     "end_time": "2023-09-12T10:20:43.038673900Z",
     "start_time": "2023-09-12T10:20:42.518404900Z"
    }
   }
  },
  {
   "cell_type": "code",
   "execution_count": 26,
   "outputs": [
    {
     "name": "stdout",
     "output_type": "stream",
     "text": [
      "0.82, 0.04\n"
     ]
    }
   ],
   "source": [
    "acc_mean, acc_std = eval_classifier(\n",
    "    AdaBoostClassifier(DecisionTreeClassifier(max_depth=1)))\n",
    "\n",
    "results_accuracy.loc['DTC-1', 'AdaBoost'] = acc_mean\n",
    "print(f\"{acc_mean:.2f}, {acc_std:.2f}\")"
   ],
   "metadata": {
    "collapsed": false,
    "ExecuteTime": {
     "end_time": "2023-09-12T10:20:51.436340700Z",
     "start_time": "2023-09-12T10:20:48.198832600Z"
    }
   }
  },
  {
   "cell_type": "code",
   "execution_count": 27,
   "outputs": [
    {
     "name": "stdout",
     "output_type": "stream",
     "text": [
      "0.82, 0.04\n"
     ]
    }
   ],
   "source": [
    "acc_mean, acc_std = eval_classifier(\n",
    "    AdaBoostClassifier(LogisticRegression()))\n",
    "\n",
    "results_accuracy.loc['LR', 'AdaBoost'] = acc_mean\n",
    "print(f\"{acc_mean:.2f}, {acc_std:.2f}\")"
   ],
   "metadata": {
    "collapsed": false,
    "ExecuteTime": {
     "end_time": "2023-09-12T10:20:56.370949Z",
     "start_time": "2023-09-12T10:20:53.822370400Z"
    }
   }
  },
  {
   "cell_type": "code",
   "execution_count": 28,
   "outputs": [
    {
     "name": "stdout",
     "output_type": "stream",
     "text": [
      "0.95, 0.02\n"
     ]
    }
   ],
   "source": [
    "acc_mean, acc_std = eval_classifier(\n",
    "    AdaBoostClassifier(SVC(probability=True)))\n",
    "\n",
    "results_accuracy.loc['SVC', 'AdaBoost'] = acc_mean\n",
    "print(f\"{acc_mean:.2f}, {acc_std:.2f}\")"
   ],
   "metadata": {
    "collapsed": false,
    "ExecuteTime": {
     "end_time": "2023-09-12T10:23:58.224613100Z",
     "start_time": "2023-09-12T10:20:59.335771200Z"
    }
   }
  },
  {
   "cell_type": "code",
   "execution_count": 45,
   "outputs": [],
   "source": [
    "def highlight_max(s, props=''):\n",
    "    # print(s)\n",
    "    return np.where(s == np.nanmax(s.values), props, '')\n",
    "\n",
    "results_to_show = results_accuracy.copy()\n",
    "\n",
    "results_html = (results_to_show.style\n",
    "                .apply(highlight_max, props='color:white;background-color:green;', axis=1)\n",
    "                .format('{:.3f}')\n",
    "                .to_html())"
   ],
   "metadata": {
    "collapsed": false,
    "ExecuteTime": {
     "end_time": "2023-09-12T10:46:00.347975300Z",
     "start_time": "2023-09-12T10:46:00.318543600Z"
    }
   }
  },
  {
   "cell_type": "code",
   "execution_count": 56,
   "outputs": [],
   "source": [
    "# Write the HTML file\n",
    "with open('pretty_results.html', 'w') as f:\n",
    "    f.write(results_html)"
   ],
   "metadata": {
    "collapsed": false,
    "ExecuteTime": {
     "end_time": "2023-09-12T10:55:08.908308600Z",
     "start_time": "2023-09-12T10:55:08.866179600Z"
    }
   }
  },
  {
   "cell_type": "code",
   "execution_count": 57,
   "outputs": [
    {
     "data": {
      "text/plain": "'<style type=\"text/css\">\\n#T_73acd_row0_col3, #T_73acd_row1_col4, #T_73acd_row2_col4, #T_73acd_row3_col4 {\\n  color: white;\\n  background-color: green;\\n}\\n</style>\\n<table id=\"T_73acd\">\\n  <thead>\\n    <tr>\\n      <th class=\"blank level0\" >&nbsp;</th>\\n      <th id=\"T_73acd_level0_col0\" class=\"col_heading level0 col0\" >No composition</th>\\n      <th id=\"T_73acd_level0_col1\" class=\"col_heading level0 col1\" >Dummy</th>\\n      <th id=\"T_73acd_level0_col2\" class=\"col_heading level0 col2\" >Bagging</th>\\n      <th id=\"T_73acd_level0_col3\" class=\"col_heading level0 col3\" >Bagging_mf</th>\\n      <th id=\"T_73acd_level0_col4\" class=\"col_heading level0 col4\" >AdaBoost</th>\\n    </tr>\\n  </thead>\\n  <tbody>\\n    <tr>\\n      <th id=\"T_73acd_level0_row0\" class=\"row_heading level0 row0\" >DTC</th>\\n      <td id=\"T_73acd_row0_col0\" class=\"data row0 col0\" >0.786</td>\\n      <td id=\"T_73acd_row0_col1\" class=\"data row0 col1\" >0.791</td>\\n      <td id=\"T_73acd_row0_col2\" class=\"data row0 col2\" >0.865</td>\\n      <td id=\"T_73acd_row0_col3\" class=\"data row0 col3\" >0.866</td>\\n      <td id=\"T_73acd_row0_col4\" class=\"data row0 col4\" >0.789</td>\\n    </tr>\\n    <tr>\\n      <th id=\"T_73acd_level0_row1\" class=\"row_heading level0 row1\" >DTC-1</th>\\n      <td id=\"T_73acd_row1_col0\" class=\"data row1 col0\" >0.683</td>\\n      <td id=\"T_73acd_row1_col1\" class=\"data row1 col1\" >0.683</td>\\n      <td id=\"T_73acd_row1_col2\" class=\"data row1 col2\" >0.686</td>\\n      <td id=\"T_73acd_row1_col3\" class=\"data row1 col3\" >0.685</td>\\n      <td id=\"T_73acd_row1_col4\" class=\"data row1 col4\" >0.818</td>\\n    </tr>\\n    <tr>\\n      <th id=\"T_73acd_level0_row2\" class=\"row_heading level0 row2\" >LR</th>\\n      <td id=\"T_73acd_row2_col0\" class=\"data row2 col0\" >0.811</td>\\n      <td id=\"T_73acd_row2_col1\" class=\"data row2 col1\" >0.811</td>\\n      <td id=\"T_73acd_row2_col2\" class=\"data row2 col2\" >0.810</td>\\n      <td id=\"T_73acd_row2_col3\" class=\"data row2 col3\" >0.811</td>\\n      <td id=\"T_73acd_row2_col4\" class=\"data row2 col4\" >0.815</td>\\n    </tr>\\n    <tr>\\n      <th id=\"T_73acd_level0_row3\" class=\"row_heading level0 row3\" >SVC</th>\\n      <td id=\"T_73acd_row3_col0\" class=\"data row3 col0\" >0.938</td>\\n      <td id=\"T_73acd_row3_col1\" class=\"data row3 col1\" >0.942</td>\\n      <td id=\"T_73acd_row3_col2\" class=\"data row3 col2\" >0.940</td>\\n      <td id=\"T_73acd_row3_col3\" class=\"data row3 col3\" >0.938</td>\\n      <td id=\"T_73acd_row3_col4\" class=\"data row3 col4\" >0.952</td>\\n    </tr>\\n  </tbody>\\n</table>\\n'"
     },
     "execution_count": 57,
     "metadata": {},
     "output_type": "execute_result"
    }
   ],
   "source": [
    "results_html"
   ],
   "metadata": {
    "collapsed": false,
    "ExecuteTime": {
     "end_time": "2023-09-12T10:56:26.331344200Z",
     "start_time": "2023-09-12T10:56:26.293083900Z"
    }
   }
  },
  {
   "cell_type": "markdown",
   "source": [
    "**Question 3:** Neither bagging nor boosting provided a noticeable improvement for logistic regression. \n",
    "Explain why."
   ],
   "metadata": {
    "collapsed": false
   }
  },
  {
   "cell_type": "markdown",
   "source": [
    "**Question 4:** Why does AdaBoost perform worse on deep trees?"
   ],
   "metadata": {
    "collapsed": false
   }
  },
  {
   "cell_type": "markdown",
   "source": [
    "**Question 5:** What are the downsides of using AdaBoost + SVC?"
   ],
   "metadata": {
    "collapsed": false
   }
  },
  {
   "cell_type": "markdown",
   "source": [
    "### GradBoost"
   ],
   "metadata": {
    "collapsed": false
   }
  },
  {
   "cell_type": "code",
   "execution_count": 58,
   "outputs": [
    {
     "name": "stdout",
     "output_type": "stream",
     "text": [
      "0.90, 0.04\n"
     ]
    }
   ],
   "source": [
    "from sklearn.ensemble import GradientBoostingClassifier\n",
    "\n",
    "acc_mean, acc_std = eval_classifier(GradientBoostingClassifier())\n",
    "\n",
    "sk_gboost = acc_mean\n",
    "print(f\"{acc_mean:.2f}, {acc_std:.2f}\")"
   ],
   "metadata": {
    "collapsed": false,
    "ExecuteTime": {
     "end_time": "2023-09-12T10:56:57.307789Z",
     "start_time": "2023-09-12T10:56:41.429235Z"
    }
   }
  },
  {
   "cell_type": "markdown",
   "source": [
    "### XGBoost"
   ],
   "metadata": {
    "collapsed": false
   }
  },
  {
   "cell_type": "markdown",
   "source": [
    "[Article](https://www.kdd.org/kdd2016/papers/files/rfp0697-chenAemb.pdf)\n",
    "\n",
    "Pros:\n",
    "- Great [documentation](https://xgboost.readthedocs.io/en/latest/)\n",
    "- Easily parallelize computations (for example, on Spark)\n",
    "- Easy to use with `sklearn` and `numpy` (but with a performance loss)\n",
    "- Handling sparse data\n",
    "- Pre-sorted blocks, caches, sharding\n",
    "\n",
    "Cons:\n",
    "- No GPU support"
   ],
   "metadata": {
    "collapsed": false
   }
  },
  {
   "cell_type": "code",
   "execution_count": 60,
   "outputs": [
    {
     "name": "stdout",
     "output_type": "stream",
     "text": [
      "0.92, 0.03\n"
     ]
    }
   ],
   "source": [
    "import xgboost\n",
    "\n",
    "acc_mean, acc_std = eval_classifier(xgboost.XGBClassifier(objective='binary:logistic', random_state=42))\n",
    "\n",
    "xg_boost = acc_mean\n",
    "print(f\"{acc_mean:.2f}, {acc_std:.2f}\")"
   ],
   "metadata": {
    "collapsed": false,
    "ExecuteTime": {
     "end_time": "2023-09-12T10:59:55.358333800Z",
     "start_time": "2023-09-12T10:59:53.328330800Z"
    }
   }
  },
  {
   "cell_type": "markdown",
   "source": [
    "### LightGBM"
   ],
   "metadata": {
    "collapsed": false
   }
  },
  {
   "cell_type": "markdown",
   "source": [
    "[Article](https://papers.nips.cc/paper/2017/file/6449f44a102fde848669bdd9eb6b76fa-Paper.pdf)\n",
    "\n",
    "Pros:\n",
    "* Good [documentation](https://lightgbm.readthedocs.io/en/latest/Python-API.html)\n",
    "* GPU support\n",
    "* Fisher's method for working with categorical features\n",
    "* Reducing the size of the training sample (GOSS)\n",
    "* Combining sparse features (EFB)\n",
    "\n",
    "Cons:\n",
    "* Microsoft has, as always, gone its own way and the interface is not compatible with sklearn/numpy"
   ],
   "metadata": {
    "collapsed": false
   }
  },
  {
   "cell_type": "code",
   "execution_count": 61,
   "outputs": [
    {
     "name": "stdout",
     "output_type": "stream",
     "text": [
      "[LightGBM] [Info] Auto-choosing col-wise multi-threading, the overhead of testing was 0.000440 seconds.\n",
      "You can set `force_col_wise=true` to remove the overhead.\n",
      "[LightGBM] [Info] Total Bins 5100\n",
      "[LightGBM] [Info] Number of data points in the train set: 1000, number of used features: 20\n",
      "[LightGBM] [Info] Start training from score -0.689155\n",
      "[LightGBM] [Info] Start training from score -0.697155\n",
      "0.95\n"
     ]
    }
   ],
   "source": [
    "import lightgbm as lgb\n",
    "\n",
    "train_data = lgb.Dataset(X, label=y)\n",
    "\n",
    "param = {'num_leaves': 31, \n",
    "         'objective': 'multiclass', \n",
    "         'num_class': 2, \n",
    "         'metric': ['multi_logloss']}\n",
    "\n",
    "num_round = 10\n",
    "boost = lgb.train(param, train_data, num_boost_round=10)\n",
    "\n",
    "lg_boost = (boost.predict(X).argmax(axis=-1) == y).mean()\n",
    "\n",
    "print(f\"{lg_boost:.2f}\")"
   ],
   "metadata": {
    "collapsed": false,
    "ExecuteTime": {
     "end_time": "2023-09-12T11:01:21.142005600Z",
     "start_time": "2023-09-12T11:01:21.064412600Z"
    }
   }
  },
  {
   "cell_type": "markdown",
   "source": [
    "### CatBoost"
   ],
   "metadata": {
    "collapsed": false
   }
  },
  {
   "cell_type": "markdown",
   "source": [
    "[Article](https://papers.nips.cc/paper/2018/file/14491b756b3a51daac41c24863285549-Paper.pdf)\n",
    "\n",
    "Pros:\n",
    "* Good [documentation](https://catboost.ai/docs/concepts/python-quickstart.html)\n",
    "* GPU support\n",
    "* Easy to use with sklearn and numpy\n",
    "* More advanced work with categorical features\n",
    "* Can be developed in St. Petersburg\n",
    "\n",
    "Cons:\n",
    "* Sometimes performs worse (possibly weaker heuristics), but good with categorical features"
   ],
   "metadata": {
    "collapsed": false
   }
  },
  {
   "cell_type": "code",
   "execution_count": 62,
   "outputs": [
    {
     "name": "stdout",
     "output_type": "stream",
     "text": [
      "0.80, 0.04\n"
     ]
    }
   ],
   "source": [
    "from catboost import CatBoostClassifier\n",
    "\n",
    "acc_mean, acc_std = eval_classifier(\n",
    "    CatBoostClassifier(\n",
    "        iterations=10,\n",
    "        depth=2,\n",
    "        learning_rate=1,\n",
    "        loss_function='Logloss',\n",
    "        verbose=True, \n",
    "        task_type='CPU'))\n",
    "\n",
    "сat_boost = acc_mean\n",
    "print(f\"{acc_mean:.2f}, {acc_std:.2f}\")"
   ],
   "metadata": {
    "collapsed": false,
    "ExecuteTime": {
     "end_time": "2023-09-12T11:04:53.798053500Z",
     "start_time": "2023-09-12T11:04:44.381533800Z"
    }
   }
  },
  {
   "cell_type": "code",
   "execution_count": 63,
   "outputs": [
    {
     "data": {
      "text/plain": "       No composition  Dummy  Bagging  Bagging_mf  AdaBoost\nDTC              0.79   0.79     0.87        0.87      0.79\nDTC-1            0.68   0.68     0.69        0.69      0.82\nLR               0.81   0.81     0.81        0.81      0.82\nSVC              0.94   0.94     0.94        0.94      0.95",
      "text/html": "<div>\n<style scoped>\n    .dataframe tbody tr th:only-of-type {\n        vertical-align: middle;\n    }\n\n    .dataframe tbody tr th {\n        vertical-align: top;\n    }\n\n    .dataframe thead th {\n        text-align: right;\n    }\n</style>\n<table border=\"1\" class=\"dataframe\">\n  <thead>\n    <tr style=\"text-align: right;\">\n      <th></th>\n      <th>No composition</th>\n      <th>Dummy</th>\n      <th>Bagging</th>\n      <th>Bagging_mf</th>\n      <th>AdaBoost</th>\n    </tr>\n  </thead>\n  <tbody>\n    <tr>\n      <th>DTC</th>\n      <td>0.79</td>\n      <td>0.79</td>\n      <td>0.87</td>\n      <td>0.87</td>\n      <td>0.79</td>\n    </tr>\n    <tr>\n      <th>DTC-1</th>\n      <td>0.68</td>\n      <td>0.68</td>\n      <td>0.69</td>\n      <td>0.69</td>\n      <td>0.82</td>\n    </tr>\n    <tr>\n      <th>LR</th>\n      <td>0.81</td>\n      <td>0.81</td>\n      <td>0.81</td>\n      <td>0.81</td>\n      <td>0.82</td>\n    </tr>\n    <tr>\n      <th>SVC</th>\n      <td>0.94</td>\n      <td>0.94</td>\n      <td>0.94</td>\n      <td>0.94</td>\n      <td>0.95</td>\n    </tr>\n  </tbody>\n</table>\n</div>"
     },
     "execution_count": 63,
     "metadata": {},
     "output_type": "execute_result"
    }
   ],
   "source": [
    "results_to_show"
   ],
   "metadata": {
    "collapsed": false,
    "ExecuteTime": {
     "end_time": "2023-09-12T11:04:57.935443700Z",
     "start_time": "2023-09-12T11:04:57.734048100Z"
    }
   }
  },
  {
   "cell_type": "code",
   "execution_count": 64,
   "outputs": [
    {
     "data": {
      "text/plain": "'0.90, 0.92, 0.95, 0.80'"
     },
     "execution_count": 64,
     "metadata": {},
     "output_type": "execute_result"
    }
   ],
   "source": [
    "f\"{sk_gboost:.2f}, {xg_boost:.2f}, {lg_boost:.2f}, {сat_boost:.2f}\""
   ],
   "metadata": {
    "collapsed": false,
    "ExecuteTime": {
     "end_time": "2023-09-12T11:05:12.532459700Z",
     "start_time": "2023-09-12T11:05:12.388473600Z"
    }
   }
  },
  {
   "cell_type": "markdown",
   "source": [
    "### Random forest"
   ],
   "metadata": {
    "collapsed": false
   }
  },
  {
   "cell_type": "code",
   "execution_count": 65,
   "outputs": [],
   "source": [
    "from sklearn.datasets import load_wine\n",
    "from sklearn.model_selection import train_test_split"
   ],
   "metadata": {
    "collapsed": false,
    "ExecuteTime": {
     "end_time": "2023-09-12T11:05:44.248265700Z",
     "start_time": "2023-09-12T11:05:44.174706100Z"
    }
   }
  },
  {
   "cell_type": "code",
   "execution_count": 66,
   "outputs": [],
   "source": [
    "data = load_wine()\n",
    "X = data['data']\n",
    "Y = data['target']\n",
    "\n",
    "X_train, X_test, Y_train, Y_test = train_test_split(X, Y, \n",
    "                                                    test_size=30, \n",
    "                                                    random_state=0)"
   ],
   "metadata": {
    "collapsed": false,
    "ExecuteTime": {
     "end_time": "2023-09-12T11:05:48.855776Z",
     "start_time": "2023-09-12T11:05:48.768694600Z"
    }
   }
  },
  {
   "cell_type": "code",
   "execution_count": 67,
   "outputs": [
    {
     "name": "stdout",
     "output_type": "stream",
     "text": [
      "0.9797297297297297 0.9666666666666667\n",
      "              precision    recall  f1-score   support\n",
      "\n",
      "           0       1.00      1.00      1.00         9\n",
      "           1       1.00      0.93      0.97        15\n",
      "           2       0.86      1.00      0.92         6\n",
      "\n",
      "    accuracy                           0.97        30\n",
      "   macro avg       0.95      0.98      0.96        30\n",
      "weighted avg       0.97      0.97      0.97        30\n"
     ]
    }
   ],
   "source": [
    "from sklearn.ensemble import RandomForestClassifier\n",
    "from sklearn.metrics import classification_report\n",
    "\n",
    "model = RandomForestClassifier(n_estimators=6, max_depth=2, random_state=0)\n",
    "model.fit(X_train, Y_train)\n",
    "\n",
    "print(model.score(X_train, Y_train), model.score(X_test, Y_test))\n",
    "print(classification_report(Y_test, model.predict(X_test)))"
   ],
   "metadata": {
    "collapsed": false,
    "ExecuteTime": {
     "end_time": "2023-09-12T11:05:55.347987300Z",
     "start_time": "2023-09-12T11:05:55.265301800Z"
    }
   }
  },
  {
   "cell_type": "markdown",
   "source": [
    "#### Dependence on the number of trees"
   ],
   "metadata": {
    "collapsed": false
   }
  },
  {
   "cell_type": "code",
   "execution_count": 68,
   "outputs": [],
   "source": [
    "models = []\n",
    "scores_train = []\n",
    "scores_test = []\n",
    "n_estimators = list(range(1, 20))\n",
    "for estimators in n_estimators:\n",
    "    model = RandomForestClassifier(n_estimators=estimators, random_state=0)\n",
    "    model.fit(X_train, Y_train)\n",
    "    models.append(model)\n",
    "    scores_test.append(model.score(X_test, Y_test))\n",
    "    scores_train.append(model.score(X_train, Y_train))"
   ],
   "metadata": {
    "collapsed": false,
    "ExecuteTime": {
     "end_time": "2023-09-12T11:06:24.367441300Z",
     "start_time": "2023-09-12T11:06:23.879625900Z"
    }
   }
  },
  {
   "cell_type": "code",
   "execution_count": 69,
   "outputs": [
    {
     "data": {
      "text/plain": "<Figure size 640x480 with 1 Axes>",
      "image/png": "[encoded data removed]"
     },
     "metadata": {},
     "output_type": "display_data"
    }
   ],
   "source": [
    "import matplotlib.pyplot as plt\n",
    "\n",
    "plt.plot(n_estimators, scores_train, label='train')\n",
    "plt.plot(n_estimators, scores_test, label='test')\n",
    "\n",
    "plt.legend(loc='best')\n",
    "plt.grid()\n",
    "plt.show()"
   ],
   "metadata": {
    "collapsed": false,
    "ExecuteTime": {
     "end_time": "2023-09-12T11:06:29.864807300Z",
     "start_time": "2023-09-12T11:06:29.623034100Z"
    }
   }
  },
  {
   "cell_type": "markdown",
   "source": [
    "#### Dependence on the number of features"
   ],
   "metadata": {
    "collapsed": false
   }
  },
  {
   "cell_type": "code",
   "execution_count": 70,
   "outputs": [],
   "source": [
    "models = []\n",
    "scores_train = []\n",
    "scores_test = []\n",
    "max_features = list(range(1, 13))\n",
    "for features in max_features:\n",
    "    model = RandomForestClassifier(n_estimators=6, \n",
    "                                   max_features=features, random_state=0)\n",
    "    model.fit(X_train, Y_train)\n",
    "    models.append(model)\n",
    "    scores_test.append(model.score(X_test, Y_test))\n",
    "    scores_train.append(model.score(X_train, Y_train))"
   ],
   "metadata": {
    "collapsed": false,
    "ExecuteTime": {
     "end_time": "2023-09-12T11:07:00.210899600Z",
     "start_time": "2023-09-12T11:06:59.966884500Z"
    }
   }
  },
  {
   "cell_type": "code",
   "execution_count": 71,
   "outputs": [
    {
     "data": {
      "text/plain": "<Figure size 640x480 with 1 Axes>",
      "image/png": "[encoded data removed]"
     },
     "metadata": {},
     "output_type": "display_data"
    }
   ],
   "source": [
    "plt.plot(max_features, scores_train, label='train')\n",
    "plt.plot(max_features, scores_test, label='test')\n",
    "\n",
    "plt.legend(loc='best')\n",
    "plt.grid()\n",
    "plt.show()"
   ],
   "metadata": {
    "collapsed": false,
    "ExecuteTime": {
     "end_time": "2023-09-12T11:07:05.424901600Z",
     "start_time": "2023-09-12T11:07:05.217449300Z"
    }
   }
  },
  {
   "cell_type": "markdown",
   "source": [
    "#### Dependence on tree depth"
   ],
   "metadata": {
    "collapsed": false
   }
  },
  {
   "cell_type": "code",
   "execution_count": 72,
   "outputs": [],
   "source": [
    "models = []\n",
    "scores_train = []\n",
    "scores_test = []\n",
    "current_depth = []\n",
    "max_depth = list(range(1, 10))\n",
    "for depth in max_depth:\n",
    "    model = RandomForestClassifier(n_estimators=6,\n",
    "        max_depth=depth, random_state=0)\n",
    "    model.fit(X_train, Y_train)\n",
    "    models.append(model)\n",
    "    scores_test.append(model.score(X_test, Y_test))\n",
    "    scores_train.append(model.score(X_train, Y_train))\n",
    "    current_depth.append(model.estimators_[0].get_depth()/depth)"
   ],
   "metadata": {
    "collapsed": false,
    "ExecuteTime": {
     "end_time": "2023-09-12T11:07:28.455579700Z",
     "start_time": "2023-09-12T11:07:28.302952400Z"
    }
   }
  },
  {
   "cell_type": "code",
   "execution_count": 73,
   "outputs": [
    {
     "data": {
      "text/plain": "<Figure size 640x480 with 1 Axes>",
      "image/png": "[encoded data removed]"
     },
     "metadata": {},
     "output_type": "display_data"
    }
   ],
   "source": [
    "plt.plot(max_depth, scores_train, label='train')\n",
    "plt.plot(max_depth, scores_test, label='test')\n",
    "plt.plot(max_depth, current_depth, label='real depth')\n",
    "\n",
    "plt.legend(loc='best')\n",
    "plt.grid()\n",
    "plt.show()"
   ],
   "metadata": {
    "collapsed": false,
    "ExecuteTime": {
     "end_time": "2023-09-12T11:07:33.579462400Z",
     "start_time": "2023-09-12T11:07:33.417594800Z"
    }
   }
  },
  {
   "cell_type": "code",
   "execution_count": 74,
   "outputs": [],
   "source": [
    "X, y = make_classification(n_samples=1000, n_features=20, n_informative=15, n_redundant=5, random_state=42)"
   ],
   "metadata": {
    "collapsed": false,
    "ExecuteTime": {
     "end_time": "2023-09-12T11:07:40.797369700Z",
     "start_time": "2023-09-12T11:07:40.677776300Z"
    }
   }
  },
  {
   "cell_type": "code",
   "execution_count": 75,
   "outputs": [
    {
     "name": "stdout",
     "output_type": "stream",
     "text": [
      "0.83, 0.04\n"
     ]
    }
   ],
   "source": [
    "acc_mean, acc_std = eval_classifier(RandomForestClassifier(n_estimators=10, max_depth=5, max_features=3, random_state=0))\n",
    "\n",
    "print(f\"{acc_mean:.2f}, {acc_std:.2f}\")"
   ],
   "metadata": {
    "collapsed": false,
    "ExecuteTime": {
     "end_time": "2023-09-12T11:07:48.065198800Z",
     "start_time": "2023-09-12T11:07:47.422915900Z"
    }
   }
  },
  {
   "cell_type": "code",
   "execution_count": null,
   "outputs": [],
   "source": [],
   "metadata": {
    "collapsed": false
   }
  }
 ],
 "metadata": {
  "celltoolbar": "Slideshow",
  "kernelspec": {
   "display_name": "Python 3 (ipykernel)",
   "language": "python",
   "name": "python3"
  },
  "language_info": {
   "codemirror_mode": {
    "name": "ipython",
    "version": 3
   },
   "file_extension": ".py",
   "mimetype": "text/x-python",
   "name": "python",
   "nbconvert_exporter": "python",
   "pygments_lexer": "ipython3",
   "version": "3.9.7"
  },
  "rise": {
   "transition": "none"
  }
 },
 "nbformat": 4,
 "nbformat_minor": 2
}
